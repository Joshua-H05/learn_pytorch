{
 "cells": [
  {
   "cell_type": "code",
   "execution_count": 1,
   "id": "initial_id",
   "metadata": {
    "collapsed": true,
    "ExecuteTime": {
     "end_time": "2023-12-03T19:13:33.912827900Z",
     "start_time": "2023-12-03T19:13:33.591008200Z"
    }
   },
   "outputs": [
    {
     "name": "stdout",
     "output_type": "stream",
     "text": [
      "/bin/bash: warning: setlocale: LC_ALL: cannot change locale (en_US.UTF-8)\r\n",
      "Sun Dec  3 20:13:33 2023       \r\n",
      "+---------------------------------------------------------------------------------------+\r\n",
      "| NVIDIA-SMI 535.103                Driver Version: 537.13       CUDA Version: 12.2     |\r\n",
      "|-----------------------------------------+----------------------+----------------------+\r\n",
      "| GPU  Name                 Persistence-M | Bus-Id        Disp.A | Volatile Uncorr. ECC |\r\n",
      "| Fan  Temp   Perf          Pwr:Usage/Cap |         Memory-Usage | GPU-Util  Compute M. |\r\n",
      "|                                         |                      |               MIG M. |\r\n",
      "|=========================================+======================+======================|\r\n",
      "|   0  NVIDIA GeForce RTX 4090        On  | 00000000:01:00.0  On |                  Off |\r\n",
      "|  0%   41C    P5              24W / 450W |   1365MiB / 24564MiB |     31%      Default |\r\n",
      "|                                         |                      |                  N/A |\r\n",
      "+-----------------------------------------+----------------------+----------------------+\r\n",
      "                                                                                         \r\n",
      "+---------------------------------------------------------------------------------------+\r\n",
      "| Processes:                                                                            |\r\n",
      "|  GPU   GI   CI        PID   Type   Process name                            GPU Memory |\r\n",
      "|        ID   ID                                                             Usage      |\r\n",
      "|=======================================================================================|\r\n",
      "|  No running processes found                                                           |\r\n",
      "+---------------------------------------------------------------------------------------+\r\n"
     ]
    }
   ],
   "source": [
    "!nvidia-smi\n"
   ]
  },
  {
   "cell_type": "code",
   "execution_count": 2,
   "outputs": [],
   "source": [
    "import torch\n",
    "import pandas as pd\n",
    "import numpy as np\n",
    "import matplotlib.pyplot as plt"
   ],
   "metadata": {
    "collapsed": false,
    "ExecuteTime": {
     "end_time": "2023-12-03T19:13:35.478552600Z",
     "start_time": "2023-12-03T19:13:33.913825700Z"
    }
   },
   "id": "34250d4e07d50a8f"
  },
  {
   "cell_type": "code",
   "execution_count": 3,
   "outputs": [
    {
     "name": "stdout",
     "output_type": "stream",
     "text": [
      "2.1.0\n"
     ]
    }
   ],
   "source": [
    "print(torch.__version__)"
   ],
   "metadata": {
    "collapsed": false,
    "ExecuteTime": {
     "end_time": "2023-12-03T19:13:35.485557100Z",
     "start_time": "2023-12-03T19:13:35.479557400Z"
    }
   },
   "id": "651a6b5a28e6faa9"
  },
  {
   "cell_type": "markdown",
   "source": [
    "# Tensors\n",
    "creating tensors\n",
    "- created using ``` torch.tensor() ```"
   ],
   "metadata": {
    "collapsed": false
   },
   "id": "501e5a924570a1"
  },
  {
   "cell_type": "code",
   "execution_count": 4,
   "outputs": [],
   "source": [
    "# scalar\n",
    "scalar = torch.tensor(7)"
   ],
   "metadata": {
    "collapsed": false,
    "ExecuteTime": {
     "end_time": "2023-12-03T19:13:35.488557800Z",
     "start_time": "2023-12-03T19:13:35.487556700Z"
    }
   },
   "id": "e48e0734752160f6"
  },
  {
   "cell_type": "code",
   "execution_count": 5,
   "outputs": [
    {
     "data": {
      "text/plain": "7"
     },
     "execution_count": 5,
     "metadata": {},
     "output_type": "execute_result"
    }
   ],
   "source": [
    "scalar.item()\n",
    "# get back as python int"
   ],
   "metadata": {
    "collapsed": false,
    "ExecuteTime": {
     "end_time": "2023-12-03T19:13:35.497085300Z",
     "start_time": "2023-12-03T19:13:35.488557800Z"
    }
   },
   "id": "7f5823354e78ae8d"
  },
  {
   "cell_type": "code",
   "execution_count": 6,
   "outputs": [],
   "source": [
    "vector = torch.tensor([5, 6])"
   ],
   "metadata": {
    "collapsed": false,
    "ExecuteTime": {
     "end_time": "2023-12-03T19:13:35.497085300Z",
     "start_time": "2023-12-03T19:13:35.495086100Z"
    }
   },
   "id": "8b583e04bedd11e1"
  },
  {
   "cell_type": "code",
   "execution_count": 7,
   "outputs": [],
   "source": [
    "MATRIX = torch.tensor([[7, 8],\n",
    "                      [9, 10]])"
   ],
   "metadata": {
    "collapsed": false,
    "ExecuteTime": {
     "end_time": "2023-12-03T19:13:35.500600300Z",
     "start_time": "2023-12-03T19:13:35.496085700Z"
    }
   },
   "id": "c8b8e20640d28f75"
  },
  {
   "cell_type": "code",
   "execution_count": 8,
   "outputs": [
    {
     "data": {
      "text/plain": "tensor(7)"
     },
     "execution_count": 8,
     "metadata": {},
     "output_type": "execute_result"
    }
   ],
   "source": [
    "MATRIX[0][0]"
   ],
   "metadata": {
    "collapsed": false,
    "ExecuteTime": {
     "end_time": "2023-12-03T19:13:35.546005700Z",
     "start_time": "2023-12-03T19:13:35.497085300Z"
    }
   },
   "id": "1e5b285ec97d43d3"
  },
  {
   "cell_type": "code",
   "execution_count": 9,
   "outputs": [],
   "source": [
    "TENSOR = torch.tensor([\n",
    "    [[1, 2, 3],\n",
    "    [4, 5, 6],\n",
    "    [7, 8, 9]],\n",
    "    [[1, 2, 3],\n",
    "    [4, 5, 6],\n",
    "    [7, 8, 9]]\n",
    "])"
   ],
   "metadata": {
    "collapsed": false,
    "ExecuteTime": {
     "end_time": "2023-12-03T19:13:35.546005700Z",
     "start_time": "2023-12-03T19:13:35.505597100Z"
    }
   },
   "id": "ac4236d4d4191a9f"
  },
  {
   "cell_type": "code",
   "execution_count": 10,
   "outputs": [
    {
     "data": {
      "text/plain": "torch.Size([2, 3, 3])"
     },
     "execution_count": 10,
     "metadata": {},
     "output_type": "execute_result"
    }
   ],
   "source": [
    "TENSOR.shape"
   ],
   "metadata": {
    "collapsed": false,
    "ExecuteTime": {
     "end_time": "2023-12-03T19:13:35.547008100Z",
     "start_time": "2023-12-03T19:13:35.507597100Z"
    }
   },
   "id": "853624c1b6e1663d"
  },
  {
   "cell_type": "code",
   "execution_count": 11,
   "outputs": [
    {
     "data": {
      "text/plain": "tensor([1, 2, 3])"
     },
     "execution_count": 11,
     "metadata": {},
     "output_type": "execute_result"
    }
   ],
   "source": [
    "TENSOR[0][0]"
   ],
   "metadata": {
    "collapsed": false,
    "ExecuteTime": {
     "end_time": "2023-12-03T19:13:35.547008100Z",
     "start_time": "2023-12-03T19:13:35.510620300Z"
    }
   },
   "id": "d8689e700b39881f"
  },
  {
   "cell_type": "code",
   "execution_count": 12,
   "outputs": [
    {
     "data": {
      "text/plain": "tensor([[1, 2, 3],\n        [4, 5, 6],\n        [7, 8, 9]])"
     },
     "execution_count": 12,
     "metadata": {},
     "output_type": "execute_result"
    }
   ],
   "source": [
    "TENSOR[1]"
   ],
   "metadata": {
    "collapsed": false,
    "ExecuteTime": {
     "end_time": "2023-12-03T19:13:35.547008100Z",
     "start_time": "2023-12-03T19:13:35.514621100Z"
    }
   },
   "id": "20f1bcf94abf4a69"
  },
  {
   "cell_type": "markdown",
   "source": [
    "# Random tensors\n",
    "Random tensors are important because the way most neural networks learn is that they start with random tensors and adjust those random numbers to better represent the data\n"
   ],
   "metadata": {
    "collapsed": false
   },
   "id": "86f4b1f1bd10ce10"
  },
  {
   "cell_type": "code",
   "execution_count": 13,
   "outputs": [],
   "source": [
    "A = torch.randn(2, 3, 4)"
   ],
   "metadata": {
    "collapsed": false,
    "ExecuteTime": {
     "end_time": "2023-12-03T19:13:35.548006800Z",
     "start_time": "2023-12-03T19:13:35.517621900Z"
    }
   },
   "id": "65b5116ed82821e"
  },
  {
   "cell_type": "code",
   "execution_count": 14,
   "outputs": [
    {
     "data": {
      "text/plain": "torch.Size([2, 3, 4])"
     },
     "execution_count": 14,
     "metadata": {},
     "output_type": "execute_result"
    }
   ],
   "source": [
    "A.shape"
   ],
   "metadata": {
    "collapsed": false,
    "ExecuteTime": {
     "end_time": "2023-12-03T19:13:35.548006800Z",
     "start_time": "2023-12-03T19:13:35.522742500Z"
    }
   },
   "id": "9829b64511195e0c"
  },
  {
   "cell_type": "code",
   "execution_count": 15,
   "outputs": [
    {
     "data": {
      "text/plain": "tensor([[[ 0.8695, -0.9224,  0.0487,  0.2135],\n         [-0.4895, -0.0294, -1.5493, -1.4386],\n         [ 0.0505, -0.4337, -2.3003,  0.5568]],\n\n        [[-0.3535, -0.0590,  1.5121, -0.3472],\n         [-0.8008, -0.2555,  0.8213, -0.6878],\n         [ 1.1752,  0.5894, -0.0581, -2.3888]]])"
     },
     "execution_count": 15,
     "metadata": {},
     "output_type": "execute_result"
    }
   ],
   "source": [
    "A"
   ],
   "metadata": {
    "collapsed": false,
    "ExecuteTime": {
     "end_time": "2023-12-03T19:13:35.548006800Z",
     "start_time": "2023-12-03T19:13:35.525980500Z"
    }
   },
   "id": "898711bcab8aaf14"
  },
  {
   "cell_type": "code",
   "execution_count": 16,
   "outputs": [],
   "source": [
    "# Create a random tensor with similar shape to an image tensor\n",
    "img = torch.rand((256, 256, 3))"
   ],
   "metadata": {
    "collapsed": false,
    "ExecuteTime": {
     "end_time": "2023-12-03T19:13:35.548006800Z",
     "start_time": "2023-12-03T19:13:35.537497300Z"
    }
   },
   "id": "cb7d7a55c1ba3879"
  },
  {
   "cell_type": "code",
   "execution_count": 17,
   "outputs": [
    {
     "data": {
      "text/plain": "tensor([[[0.2597, 0.1230, 0.8823],\n         [0.4576, 0.2389, 0.6146],\n         [0.7514, 0.8560, 0.7940],\n         ...,\n         [0.6830, 0.0481, 0.6926],\n         [0.5106, 0.0300, 0.7986],\n         [0.8600, 0.1136, 0.1716]],\n\n        [[0.4890, 0.4439, 0.7801],\n         [0.5458, 0.0160, 0.5932],\n         [0.1503, 0.5016, 0.5653],\n         ...,\n         [0.4042, 0.5057, 0.6500],\n         [0.4016, 0.0816, 0.0491],\n         [0.7590, 0.2714, 0.8090]],\n\n        [[0.0420, 0.9424, 0.6840],\n         [0.3268, 0.0859, 0.2446],\n         [0.5033, 0.3772, 0.7844],\n         ...,\n         [0.8088, 0.9945, 0.1674],\n         [0.8299, 0.2003, 0.5363],\n         [0.4252, 0.7711, 0.3095]],\n\n        ...,\n\n        [[0.6803, 0.9222, 0.9400],\n         [0.3814, 0.0442, 0.5352],\n         [0.2794, 0.7021, 0.0349],\n         ...,\n         [0.7232, 0.6981, 0.4554],\n         [0.0414, 0.9892, 0.7524],\n         [0.4055, 0.5495, 0.2806]],\n\n        [[0.8569, 0.2683, 0.4222],\n         [0.0206, 0.7640, 0.8831],\n         [0.0888, 0.5545, 0.6161],\n         ...,\n         [0.4671, 0.7538, 0.4416],\n         [0.3180, 0.6950, 0.3043],\n         [0.5210, 0.5088, 0.2902]],\n\n        [[0.6583, 0.0740, 0.6005],\n         [0.5424, 0.6718, 0.8772],\n         [0.6220, 0.2117, 0.7647],\n         ...,\n         [0.0075, 0.5029, 0.1986],\n         [0.3293, 0.2715, 0.7216],\n         [0.0905, 0.0792, 0.0454]]])"
     },
     "execution_count": 17,
     "metadata": {},
     "output_type": "execute_result"
    }
   ],
   "source": [
    "img"
   ],
   "metadata": {
    "collapsed": false,
    "ExecuteTime": {
     "end_time": "2023-12-03T19:13:35.556692500Z",
     "start_time": "2023-12-03T19:13:35.541006Z"
    }
   },
   "id": "56dcf764328e0d0"
  },
  {
   "cell_type": "markdown",
   "source": [
    "# Zeros and ones\n",
    "- Used to zero numbers out in matrix multiplications"
   ],
   "metadata": {
    "collapsed": false
   },
   "id": "d3bf13c91892715"
  },
  {
   "cell_type": "code",
   "execution_count": 18,
   "outputs": [],
   "source": [
    "zeros = torch.zeros((3, 4))"
   ],
   "metadata": {
    "collapsed": false,
    "ExecuteTime": {
     "end_time": "2023-12-03T19:13:35.569967300Z",
     "start_time": "2023-12-03T19:13:35.546005700Z"
    }
   },
   "id": "f9f3a1e8171a400d"
  },
  {
   "cell_type": "code",
   "execution_count": 19,
   "outputs": [],
   "source": [
    "ones = torch.ones(3, 4)"
   ],
   "metadata": {
    "collapsed": false,
    "ExecuteTime": {
     "end_time": "2023-12-03T19:13:35.575967900Z",
     "start_time": "2023-12-03T19:13:35.549007100Z"
    }
   },
   "id": "36d6e909bee6ccdb"
  },
  {
   "cell_type": "markdown",
   "source": [
    "# Arange\n",
    "- Includes start but excludes stop"
   ],
   "metadata": {
    "collapsed": false
   },
   "id": "8a4186f174d42ce7"
  },
  {
   "cell_type": "code",
   "execution_count": 20,
   "outputs": [
    {
     "data": {
      "text/plain": "tensor([0, 3, 6, 9])"
     },
     "execution_count": 20,
     "metadata": {},
     "output_type": "execute_result"
    }
   ],
   "source": [
    "torch.arange(0, 12, 3)"
   ],
   "metadata": {
    "collapsed": false,
    "ExecuteTime": {
     "end_time": "2023-12-03T19:13:35.575967900Z",
     "start_time": "2023-12-03T19:13:35.550362800Z"
    }
   },
   "id": "3dc9b87d2ca252df"
  },
  {
   "cell_type": "code",
   "execution_count": 21,
   "outputs": [],
   "source": [
    "# Create zero tensor with same dim as another tensor\n",
    "zeros_like = torch.zeros_like(ones)"
   ],
   "metadata": {
    "collapsed": false,
    "ExecuteTime": {
     "end_time": "2023-12-03T19:13:35.577969600Z",
     "start_time": "2023-12-03T19:13:35.556692500Z"
    }
   },
   "id": "c14347ce17940723"
  },
  {
   "cell_type": "code",
   "execution_count": 22,
   "outputs": [
    {
     "data": {
      "text/plain": "tensor([[0., 0., 0., 0.],\n        [0., 0., 0., 0.],\n        [0., 0., 0., 0.]])"
     },
     "execution_count": 22,
     "metadata": {},
     "output_type": "execute_result"
    }
   ],
   "source": [
    "zeros_like"
   ],
   "metadata": {
    "collapsed": false,
    "ExecuteTime": {
     "end_time": "2023-12-03T19:13:35.578972100Z",
     "start_time": "2023-12-03T19:13:35.557693300Z"
    }
   },
   "id": "4a3f39e214f549fe"
  },
  {
   "cell_type": "markdown",
   "source": [
    "# Tensor Attributes\n",
    "- Default datatype: Float32 -> tensors we perform computations with must be of same dtype\n",
    "    - check using ```torch.dtype```\n",
    "- Device: cpu or gpu etc. -> tensors must be on same device\n",
    "     - check using ```torch.device```\n",
    "- requires_grad: track with computation graph\n",
    "    - check using ```torch.requires_grad```"
   ],
   "metadata": {
    "collapsed": false
   },
   "id": "bef98b25a2af2b24"
  },
  {
   "cell_type": "code",
   "execution_count": 23,
   "outputs": [],
   "source": [
    "a = torch.randn(3, 4)"
   ],
   "metadata": {
    "collapsed": false,
    "ExecuteTime": {
     "end_time": "2023-12-03T19:13:35.578972100Z",
     "start_time": "2023-12-03T19:13:35.560848Z"
    }
   },
   "id": "8d4523ae92315b50"
  },
  {
   "cell_type": "code",
   "execution_count": 24,
   "outputs": [
    {
     "data": {
      "text/plain": "False"
     },
     "execution_count": 24,
     "metadata": {},
     "output_type": "execute_result"
    }
   ],
   "source": [
    "a.requires_grad"
   ],
   "metadata": {
    "collapsed": false,
    "ExecuteTime": {
     "end_time": "2023-12-03T19:13:35.578972100Z",
     "start_time": "2023-12-03T19:13:35.562848900Z"
    }
   },
   "id": "ccf1c0c10a90d87f"
  },
  {
   "cell_type": "markdown",
   "source": [
    "## Functions\n",
    "-```type(new_data_type)``` returns new tensor with specified dtype (not in place)"
   ],
   "metadata": {
    "collapsed": false
   },
   "id": "5e57eff11a7931ba"
  },
  {
   "cell_type": "code",
   "execution_count": 25,
   "outputs": [],
   "source": [
    "b = a.type(torch.float16)"
   ],
   "metadata": {
    "collapsed": false,
    "ExecuteTime": {
     "end_time": "2023-12-03T19:13:35.578972100Z",
     "start_time": "2023-12-03T19:13:35.565851900Z"
    }
   },
   "id": "ac7b11857903be7"
  },
  {
   "cell_type": "code",
   "execution_count": 26,
   "outputs": [
    {
     "name": "stdout",
     "output_type": "stream",
     "text": [
      "torch.float32 torch.float16\n"
     ]
    }
   ],
   "source": [
    "print(a.dtype, b.dtype)"
   ],
   "metadata": {
    "collapsed": false,
    "ExecuteTime": {
     "end_time": "2023-12-03T19:13:35.585767Z",
     "start_time": "2023-12-03T19:13:35.568849200Z"
    }
   },
   "id": "b0402213cc3d488a"
  },
  {
   "cell_type": "markdown",
   "source": [
    "# Tensor Manipulation\n",
    "- Addition\n",
    "- Subtraction\n",
    "- Multiplication\n",
    "- Division\n",
    "- Matmul"
   ],
   "metadata": {
    "collapsed": false
   },
   "id": "c7bee99af8eab8c0"
  },
  {
   "cell_type": "code",
   "execution_count": 27,
   "outputs": [],
   "source": [
    "a = torch.arange(0, 10, 2)"
   ],
   "metadata": {
    "collapsed": false,
    "ExecuteTime": {
     "end_time": "2023-12-03T19:13:35.585767Z",
     "start_time": "2023-12-03T19:13:35.571967Z"
    }
   },
   "id": "8e59ccbff27dd0f2"
  },
  {
   "cell_type": "code",
   "execution_count": 28,
   "outputs": [
    {
     "data": {
      "text/plain": "tensor([ 0,  4,  8, 12, 16])"
     },
     "execution_count": 28,
     "metadata": {},
     "output_type": "execute_result"
    }
   ],
   "source": [
    "# Element wise multiplication\n",
    "a * 2"
   ],
   "metadata": {
    "collapsed": false,
    "ExecuteTime": {
     "end_time": "2023-12-03T19:13:35.589990200Z",
     "start_time": "2023-12-03T19:13:35.573970400Z"
    }
   },
   "id": "f201e7ef0d19e09"
  },
  {
   "cell_type": "code",
   "execution_count": 29,
   "outputs": [
    {
     "data": {
      "text/plain": "tensor([ 0,  6, 12, 18, 24])"
     },
     "execution_count": 29,
     "metadata": {},
     "output_type": "execute_result"
    }
   ],
   "source": [
    "# Element wise addition\n",
    "a * 3"
   ],
   "metadata": {
    "collapsed": false,
    "ExecuteTime": {
     "end_time": "2023-12-03T19:13:35.731930300Z",
     "start_time": "2023-12-03T19:13:35.577969600Z"
    }
   },
   "id": "da40555409d1b990"
  },
  {
   "cell_type": "markdown",
   "source": [
    "# Matrix Multiplication"
   ],
   "metadata": {
    "collapsed": false
   },
   "id": "61f56b11c88ef19c"
  },
  {
   "cell_type": "code",
   "execution_count": 30,
   "outputs": [
    {
     "data": {
      "text/plain": "tensor([ 0,  4, 16, 36, 64])"
     },
     "execution_count": 30,
     "metadata": {},
     "output_type": "execute_result"
    }
   ],
   "source": [
    "# Element wise multiplication\n",
    "a * a"
   ],
   "metadata": {
    "collapsed": false,
    "ExecuteTime": {
     "end_time": "2023-12-03T19:13:35.732931900Z",
     "start_time": "2023-12-03T19:13:35.582061600Z"
    }
   },
   "id": "37603ad63c0e2558"
  },
  {
   "cell_type": "code",
   "execution_count": 31,
   "outputs": [
    {
     "data": {
      "text/plain": "tensor(120)"
     },
     "execution_count": 31,
     "metadata": {},
     "output_type": "execute_result"
    }
   ],
   "source": [
    "# Matmul\n",
    "a @ a"
   ],
   "metadata": {
    "collapsed": false,
    "ExecuteTime": {
     "end_time": "2023-12-03T19:13:35.744447600Z",
     "start_time": "2023-12-03T19:13:35.584744100Z"
    }
   },
   "id": "3d0bd503221d8c37"
  },
  {
   "cell_type": "code",
   "execution_count": 32,
   "outputs": [],
   "source": [
    "b = torch.zeros(2, 3, 4)\n",
    "c = torch.randn(2, 4 , 6)"
   ],
   "metadata": {
    "collapsed": false,
    "ExecuteTime": {
     "end_time": "2023-12-03T19:13:35.745447100Z",
     "start_time": "2023-12-03T19:13:35.587773400Z"
    }
   },
   "id": "332d82d43c63d605"
  },
  {
   "cell_type": "code",
   "execution_count": 33,
   "outputs": [
    {
     "data": {
      "text/plain": "torch.Size([2, 3, 6])"
     },
     "execution_count": 33,
     "metadata": {},
     "output_type": "execute_result"
    }
   ],
   "source": [
    "(b @ c).shape"
   ],
   "metadata": {
    "collapsed": false,
    "ExecuteTime": {
     "end_time": "2023-12-03T19:13:35.746448300Z",
     "start_time": "2023-12-03T19:13:35.589990200Z"
    }
   },
   "id": "731d0fdca4b1c700"
  },
  {
   "cell_type": "code",
   "execution_count": 34,
   "outputs": [
    {
     "data": {
      "text/plain": "tensor([[[0., 0., 0., 0., 0., 0.],\n         [0., 0., 0., 0., 0., 0.],\n         [0., 0., 0., 0., 0., 0.]],\n\n        [[0., 0., 0., 0., 0., 0.],\n         [0., 0., 0., 0., 0., 0.],\n         [0., 0., 0., 0., 0., 0.]]])"
     },
     "execution_count": 34,
     "metadata": {},
     "output_type": "execute_result"
    }
   ],
   "source": [
    "b @ c"
   ],
   "metadata": {
    "collapsed": false,
    "ExecuteTime": {
     "end_time": "2023-12-03T19:13:35.747446900Z",
     "start_time": "2023-12-03T19:13:35.594505800Z"
    }
   },
   "id": "2416e4661c550606"
  },
  {
   "cell_type": "code",
   "execution_count": 35,
   "outputs": [],
   "source": [
    "a = torch.ones(3, 2, 2)\n",
    "a[:, 0, 0] = 2"
   ],
   "metadata": {
    "collapsed": false,
    "ExecuteTime": {
     "end_time": "2023-12-03T19:13:35.747446900Z",
     "start_time": "2023-12-03T19:13:35.597502100Z"
    }
   },
   "id": "96a1e4dee67ce045"
  },
  {
   "cell_type": "code",
   "execution_count": 36,
   "outputs": [
    {
     "data": {
      "text/plain": "tensor([[[2., 1.],\n         [1., 1.]],\n\n        [[2., 1.],\n         [1., 1.]],\n\n        [[2., 1.],\n         [1., 1.]]])"
     },
     "execution_count": 36,
     "metadata": {},
     "output_type": "execute_result"
    }
   ],
   "source": [
    "a"
   ],
   "metadata": {
    "collapsed": false,
    "ExecuteTime": {
     "end_time": "2023-12-03T19:13:35.747446900Z",
     "start_time": "2023-12-03T19:13:35.600009400Z"
    }
   },
   "id": "d43bdf2f97f124db"
  },
  {
   "cell_type": "code",
   "execution_count": 37,
   "outputs": [
    {
     "data": {
      "text/plain": "tensor([[2., 1.],\n        [1., 1.]])"
     },
     "execution_count": 37,
     "metadata": {},
     "output_type": "execute_result"
    }
   ],
   "source": [
    "a.mean(0)"
   ],
   "metadata": {
    "collapsed": false,
    "ExecuteTime": {
     "end_time": "2023-12-03T19:13:35.747446900Z",
     "start_time": "2023-12-03T19:13:35.604013600Z"
    }
   },
   "id": "225adebf1f17671a"
  },
  {
   "cell_type": "markdown",
   "source": [
    "# Naming tensors\n",
    "- To keep track of tensor dims without using indices, we can name them by passing in an extra parameter (list of strings)\n",
    "- Use the `rename()` method to rename tensor dims\n",
    "- The method `align_as()` returns a tensor with missing dimensions\n",
    "added and existing ones permuted to the right order"
   ],
   "metadata": {
    "collapsed": false
   },
   "id": "7a1326b09fdde6b6"
  },
  {
   "cell_type": "code",
   "execution_count": 38,
   "outputs": [
    {
     "name": "stderr",
     "output_type": "stream",
     "text": [
      "/tmp/ipykernel_973/1540385880.py:1: UserWarning: Named tensors and all their associated APIs are an experimental feature and subject to change. Please do not use them for anything important until they are released as stable. (Triggered internally at /opt/conda/conda-bld/pytorch_1695392035891/work/c10/core/TensorImpl.h:1900.)\n",
      "  a = torch.rand(3, 2, 2, names=[\"one\", \"two\", \"three\"])\n"
     ]
    }
   ],
   "source": [
    "a = torch.rand(3, 2, 2, names=[\"one\", \"two\", \"three\"])"
   ],
   "metadata": {
    "collapsed": false,
    "ExecuteTime": {
     "end_time": "2023-12-03T19:13:35.748953100Z",
     "start_time": "2023-12-03T19:13:35.608014900Z"
    }
   },
   "id": "7550fa4b253e618"
  },
  {
   "cell_type": "code",
   "execution_count": 39,
   "outputs": [
    {
     "data": {
      "text/plain": "tensor([[[0.5103, 0.0063],\n         [0.3487, 0.8010]],\n\n        [[0.5826, 0.7717],\n         [0.5006, 0.1935]],\n\n        [[0.5132, 0.6430],\n         [0.5308, 0.9784]]], names=('Channels', 'Rows', 'Cols'))"
     },
     "execution_count": 39,
     "metadata": {},
     "output_type": "execute_result"
    }
   ],
   "source": [
    "b = a.rename(one=\"Channels\", two=\"Rows\", three=\"Cols\") # MUST ASSIGN NEW VARIABLE NAME WHEN RENAMING\n",
    "b"
   ],
   "metadata": {
    "collapsed": false,
    "ExecuteTime": {
     "end_time": "2023-12-03T19:13:35.748953100Z",
     "start_time": "2023-12-03T19:13:35.610116600Z"
    }
   },
   "id": "5a51b0a634b4ac57"
  },
  {
   "cell_type": "code",
   "execution_count": 40,
   "outputs": [
    {
     "data": {
      "text/plain": "tensor([[[0.5103, 0.0063],\n         [0.3487, 0.8010]],\n\n        [[0.5826, 0.7717],\n         [0.5006, 0.1935]],\n\n        [[0.5132, 0.6430],\n         [0.5308, 0.9784]]], names=('one', 'two', 'three'))"
     },
     "execution_count": 40,
     "metadata": {},
     "output_type": "execute_result"
    }
   ],
   "source": [
    "a"
   ],
   "metadata": {
    "collapsed": false,
    "ExecuteTime": {
     "end_time": "2023-12-03T19:13:35.749958700Z",
     "start_time": "2023-12-03T19:13:35.614071900Z"
    }
   },
   "id": "202ffd58bf096cd0"
  },
  {
   "cell_type": "code",
   "execution_count": 41,
   "outputs": [],
   "source": [
    "c = torch.zeros(2, 3, 2, names=(\"one\", \"two\", \"three\")).align_as(a)"
   ],
   "metadata": {
    "collapsed": false,
    "ExecuteTime": {
     "end_time": "2023-12-03T19:13:35.749958700Z",
     "start_time": "2023-12-03T19:13:35.620792300Z"
    }
   },
   "id": "6e5706b41b537395"
  },
  {
   "cell_type": "code",
   "execution_count": 42,
   "outputs": [
    {
     "data": {
      "text/plain": "tensor([[[0., 0.],\n         [0., 0.],\n         [0., 0.]],\n\n        [[0., 0.],\n         [0., 0.],\n         [0., 0.]]], names=('one', 'two', 'three'))"
     },
     "execution_count": 42,
     "metadata": {},
     "output_type": "execute_result"
    }
   ],
   "source": [
    "c"
   ],
   "metadata": {
    "collapsed": false,
    "ExecuteTime": {
     "end_time": "2023-12-03T19:13:35.749958700Z",
     "start_time": "2023-12-03T19:13:35.621795800Z"
    }
   },
   "id": "59d876a1c96215d7"
  },
  {
   "cell_type": "markdown",
   "source": [
    "# Torch Dtypes\n",
    "- If we pass a list of ints to `torch.tensor`, torch automatically creates an int64 tensor\n",
    "- convert via the `.to()` method\n",
    "- When performing computations, torch automatically converts all tensors to the highest precision-> if we want a computation resulting in a float32 tensor, all the components should be at most int32"
   ],
   "metadata": {
    "collapsed": false
   },
   "id": "a2f683ad685b47c1"
  },
  {
   "cell_type": "code",
   "execution_count": 43,
   "outputs": [
    {
     "data": {
      "text/plain": "torch.float64"
     },
     "execution_count": 43,
     "metadata": {},
     "output_type": "execute_result"
    }
   ],
   "source": [
    "double_points = torch.zeros(10, 2).to(torch.double)\n",
    "double_points.dtype"
   ],
   "metadata": {
    "collapsed": false,
    "ExecuteTime": {
     "end_time": "2023-12-03T19:13:35.756957900Z",
     "start_time": "2023-12-03T19:13:35.624795800Z"
    }
   },
   "id": "facd8703b8675943"
  },
  {
   "cell_type": "markdown",
   "source": [
    "# The tensor API\n",
    "- Most operations on & between tensors are available in the torch module & can be called as methods\n",
    "    - `torch.transpose(a, 0, 1)` or `a.transpose(0, 1)`\n",
    "# Tensor storage\n",
    "- managed by `torch.Storage` instances: 1-d array of numerical data (continuous block of memory containing numbers of the same dtype)\n",
    "- torch `Tensor` instances  can index into storage using an offset & per-dimension strides   \n",
    "- Multiple `Tensor` instances can index the same storage simultaneously (with different dimensionality)\n",
    "- Can index into the storage (Always 1 D) directly to change value of tensor\n",
    "## Size, Offset & Stride\n",
    "- A tensor stores the size, offset & stride in a tuple in order to index into storage correctly\n",
    "- **Offset**: Where to begin in the 1D array in memory ( Usually 0 unless tensor is a view of a larger tensor)\n",
    "- **Size**: Tuple indicating how many elements across each dim the tensor represents (shape)\n",
    "- **Stride**: Number of elements in storage that need to be skipped over to obtain the next element along each dim\n",
    "    - e.g. stride along the rows is the number of elements you need to move in memory to go from one element in a row to the next element in the same row \n",
    "- Makes operations such as transposing & extracting sub-tensors more efficient (avoids allocation of new memory) `second_point = points[1]` creates a tensor that indexes into the same storage-> **Potential Issue:** alterations to the sub-tensor will affect the main tensor-> May need to copy data over to a new tensor\n",
    "- Solution: `second_point = points[1].clone()`"
   ],
   "metadata": {
    "collapsed": false
   },
   "id": "b87815ec786b65a"
  },
  {
   "cell_type": "code",
   "execution_count": 44,
   "outputs": [],
   "source": [
    "points = torch.tensor([[4.0, 1.0], [5.0, 3.0], [2.0, 1.0]])"
   ],
   "metadata": {
    "collapsed": false,
    "ExecuteTime": {
     "end_time": "2023-12-03T19:13:35.756957900Z",
     "start_time": "2023-12-03T19:13:35.627800300Z"
    }
   },
   "id": "9bdbc52dcda38b40"
  },
  {
   "cell_type": "code",
   "execution_count": 45,
   "outputs": [
    {
     "name": "stderr",
     "output_type": "stream",
     "text": [
      "/tmp/ipykernel_973/1256144357.py:1: UserWarning: TypedStorage is deprecated. It will be removed in the future and UntypedStorage will be the only storage class. This should only matter to you if you are using storages directly.  To access UntypedStorage directly, use tensor.untyped_storage() instead of tensor.storage()\n",
      "  points.storage() # Data stored in continuous array even though tensor is 2d\n"
     ]
    },
    {
     "data": {
      "text/plain": " 4.0\n 1.0\n 5.0\n 3.0\n 2.0\n 1.0\n[torch.storage.TypedStorage(dtype=torch.float32, device=cpu) of size 6]"
     },
     "execution_count": 45,
     "metadata": {},
     "output_type": "execute_result"
    }
   ],
   "source": [
    "points.storage() # Data stored in continuous array even though tensor is 2d"
   ],
   "metadata": {
    "collapsed": false,
    "ExecuteTime": {
     "end_time": "2023-12-03T19:13:35.756957900Z",
     "start_time": "2023-12-03T19:13:35.630840Z"
    }
   },
   "id": "af07ed64ae6526ae"
  },
  {
   "cell_type": "code",
   "execution_count": 46,
   "outputs": [
    {
     "data": {
      "text/plain": "2"
     },
     "execution_count": 46,
     "metadata": {},
     "output_type": "execute_result"
    }
   ],
   "source": [
    "points = torch.tensor([[4.0, 1.0], [5.0, 3.0], [2.0, 1.0]])\n",
    "second_point = points[1]\n",
    "second_point.storage_offset() # Offset in storage between the first 2 elements"
   ],
   "metadata": {
    "collapsed": false,
    "ExecuteTime": {
     "end_time": "2023-12-03T19:13:35.757957200Z",
     "start_time": "2023-12-03T19:13:35.634980600Z"
    }
   },
   "id": "ec709c387ffc8c03"
  },
  {
   "cell_type": "code",
   "execution_count": 47,
   "outputs": [
    {
     "data": {
      "text/plain": "(tensor([5., 3.]), torch.Size([2]))"
     },
     "execution_count": 47,
     "metadata": {},
     "output_type": "execute_result"
    }
   ],
   "source": [
    "second_point, second_point.size()"
   ],
   "metadata": {
    "collapsed": false,
    "ExecuteTime": {
     "end_time": "2023-12-03T19:13:35.757957200Z",
     "start_time": "2023-12-03T19:13:35.637489100Z"
    }
   },
   "id": "b6ef46d797fc36b6"
  },
  {
   "cell_type": "code",
   "execution_count": 48,
   "outputs": [
    {
     "data": {
      "text/plain": "(2, 1)"
     },
     "execution_count": 48,
     "metadata": {},
     "output_type": "execute_result"
    }
   ],
   "source": [
    "points.stride() # Provides stride in (rows, cols) -> stride in cols is 1"
   ],
   "metadata": {
    "collapsed": false,
    "ExecuteTime": {
     "end_time": "2023-12-03T19:13:35.757957200Z",
     "start_time": "2023-12-03T19:13:35.640538Z"
    }
   },
   "id": "8d1a737b25678722"
  },
  {
   "cell_type": "code",
   "execution_count": 49,
   "outputs": [
    {
     "data": {
      "text/plain": "(4.0, 1.0)"
     },
     "execution_count": 49,
     "metadata": {},
     "output_type": "execute_result"
    }
   ],
   "source": [
    "points.storage()[0], points.storage()[1] # As seen here, the first & second elements of the storage are the items in the first row-> stride between cols = 1"
   ],
   "metadata": {
    "collapsed": false,
    "ExecuteTime": {
     "end_time": "2023-12-03T19:13:35.758959400Z",
     "start_time": "2023-12-03T19:13:35.643537900Z"
    }
   },
   "id": "572857e9733f7c25"
  },
  {
   "cell_type": "code",
   "execution_count": 50,
   "outputs": [
    {
     "data": {
      "text/plain": "5.0"
     },
     "execution_count": 50,
     "metadata": {},
     "output_type": "execute_result"
    }
   ],
   "source": [
    "points.storage()[2]"
   ],
   "metadata": {
    "collapsed": false,
    "ExecuteTime": {
     "end_time": "2023-12-03T19:13:35.758959400Z",
     "start_time": "2023-12-03T19:13:35.647536700Z"
    }
   },
   "id": "a7fb550ebc3a1b2d"
  },
  {
   "cell_type": "markdown",
   "source": [
    "#### As seen above: Accessing an element `i, j` in a 2D tensor results in accessing the \n",
    "```storage_offset + stride[0] * i + stride[1] * j``` element in the storage. "
   ],
   "metadata": {
    "collapsed": false
   },
   "id": "a77d46796e04d461"
  },
  {
   "cell_type": "markdown",
   "source": [
    "# In place operations\n",
    "- Some in place operations exist as methods of the `Tensor` object: have trailing underscores in their names: `zero_()`\n",
    "- **Any method without the underscore returns a new tensor & leaves the old one unchanged**"
   ],
   "metadata": {
    "collapsed": false
   },
   "id": "9755d3790f18039d"
  },
  {
   "cell_type": "code",
   "execution_count": 51,
   "outputs": [
    {
     "data": {
      "text/plain": "tensor([[[0.5103, 0.0063],\n         [0.3487, 0.8010]],\n\n        [[0.5826, 0.7717],\n         [0.5006, 0.1935]],\n\n        [[0.5132, 0.6430],\n         [0.5308, 0.9784]]], names=('one', 'two', 'three'))"
     },
     "execution_count": 51,
     "metadata": {},
     "output_type": "execute_result"
    }
   ],
   "source": [
    "a"
   ],
   "metadata": {
    "collapsed": false,
    "ExecuteTime": {
     "end_time": "2023-12-03T19:13:35.758959400Z",
     "start_time": "2023-12-03T19:13:35.650801500Z"
    }
   },
   "id": "d71a0010f908509d"
  },
  {
   "cell_type": "code",
   "execution_count": 52,
   "outputs": [
    {
     "data": {
      "text/plain": "tensor([[[0., 0.],\n         [0., 0.]],\n\n        [[0., 0.],\n         [0., 0.]],\n\n        [[0., 0.],\n         [0., 0.]]], names=('one', 'two', 'three'))"
     },
     "execution_count": 52,
     "metadata": {},
     "output_type": "execute_result"
    }
   ],
   "source": [
    "a.zero_()\n",
    "a"
   ],
   "metadata": {
    "collapsed": false,
    "ExecuteTime": {
     "end_time": "2023-12-03T19:13:35.760000600Z",
     "start_time": "2023-12-03T19:13:35.652802700Z"
    }
   },
   "id": "370a9986a9b8e7d4"
  },
  {
   "cell_type": "markdown",
   "source": [
    "# Transposing Tensors\n",
    "- Changes the stride & shape without allocating new memory\n",
    "- Can be done for n-D tensors where n > 2 too: Specify dims for transpose, e.g. `a.transpose(0, 2)` \n",
    "- Tensor whose values are laid out in storage starting from the rightmost dimension onwards is **continuous**-> Efficient because no need to jump around in storage\n",
    "    - Check for continuity: `a.is_continuous()`\n",
    "    - Can make non-continuous tensor continuous by allocating new storage: `a.continuous()` "
   ],
   "metadata": {
    "collapsed": false
   },
   "id": "9242d7a712df16b"
  },
  {
   "cell_type": "code",
   "execution_count": 53,
   "outputs": [],
   "source": [
    "a = torch.arange(0, 12, 1).reshape(2, 2, 3)"
   ],
   "metadata": {
    "collapsed": false,
    "ExecuteTime": {
     "end_time": "2023-12-03T19:13:35.760000600Z",
     "start_time": "2023-12-03T19:13:35.657801400Z"
    }
   },
   "id": "c094f3693190161e"
  },
  {
   "cell_type": "code",
   "execution_count": 54,
   "outputs": [
    {
     "data": {
      "text/plain": "tensor([[[ 0,  1,  2],\n         [ 3,  4,  5]],\n\n        [[ 6,  7,  8],\n         [ 9, 10, 11]]])"
     },
     "execution_count": 54,
     "metadata": {},
     "output_type": "execute_result"
    }
   ],
   "source": [
    "a"
   ],
   "metadata": {
    "collapsed": false,
    "ExecuteTime": {
     "end_time": "2023-12-03T19:13:35.760000600Z",
     "start_time": "2023-12-03T19:13:35.659825500Z"
    }
   },
   "id": "aa800c49d3ffcb2a"
  },
  {
   "cell_type": "code",
   "execution_count": 55,
   "outputs": [
    {
     "data": {
      "text/plain": "(tensor([[[ 0,  6],\n          [ 3,  9]],\n \n         [[ 1,  7],\n          [ 4, 10]],\n \n         [[ 2,  8],\n          [ 5, 11]]]),\n torch.Size([3, 2, 2]))"
     },
     "execution_count": 55,
     "metadata": {},
     "output_type": "execute_result"
    }
   ],
   "source": [
    "a.transpose(0, 2), a.transpose(0, 2).shape # The 1st row of the 2nd dim is now the first col of the 0th dim"
   ],
   "metadata": {
    "collapsed": false,
    "ExecuteTime": {
     "end_time": "2023-12-03T19:13:35.760000600Z",
     "start_time": "2023-12-03T19:13:35.663802100Z"
    }
   },
   "id": "10b6b324ef62a9ae"
  },
  {
   "cell_type": "markdown",
   "source": [
    "# Torch & GPUs\n",
    "- Tensors are stored on CPU by default but can be moved to GPU for parallel computations\n",
    "- `device` is a var which tells us where the tensor is placed\n",
    "    - create tensor on gpu: `points_gpu = torch.tensor([[4.0, 1.0], [5.0, 3.0], [2.0, 1.0]], device='cuda')`\n",
    "    - Copy a tensor to GPU: `points_gpu = points.to(device='cuda')` (Yields new tensor with same data but stored on RAM of GPU)\n",
    "    - Shorthand method of the same thing `points_gpu = points.cuda()`\n",
    "- GPU & CPU tensors share the same API -> Can run code regardless of where it is running\n",
    "- After a tensor has been copied to the GPU, the CPU knows nothing about the computations we perform with it"
   ],
   "metadata": {
    "collapsed": false
   },
   "id": "249b7ec858a47633"
  },
  {
   "cell_type": "code",
   "execution_count": 56,
   "outputs": [],
   "source": [
    "a = torch.randn(3, 2)\n",
    "a_gpu = a.cuda()\n",
    "a_gpu_float = a.to(device='cuda', dtype=torch.float32)"
   ],
   "metadata": {
    "collapsed": false,
    "ExecuteTime": {
     "end_time": "2023-12-03T19:13:36.068759200Z",
     "start_time": "2023-12-03T19:13:35.818959200Z"
    }
   },
   "id": "a92e518e86c609b7"
  },
  {
   "cell_type": "code",
   "execution_count": 57,
   "outputs": [
    {
     "data": {
      "text/plain": "(device(type='cpu'),\n device(type='cuda', index=0),\n device(type='cuda', index=0),\n torch.float32)"
     },
     "execution_count": 57,
     "metadata": {},
     "output_type": "execute_result"
    }
   ],
   "source": [
    "a.device, a_gpu.device, a_gpu_float.device, a_gpu_float.dtype"
   ],
   "metadata": {
    "collapsed": false,
    "ExecuteTime": {
     "end_time": "2023-12-03T19:13:36.074783200Z",
     "start_time": "2023-12-03T19:13:36.069265800Z"
    }
   },
   "id": "fb01727611035c64"
  },
  {
   "cell_type": "markdown",
   "source": [
    "# NumPy interoperability\n",
    "- Torch tensors on CPU can be converted to NumPy arrays efficiently (Zero-copy interoperability)\n",
    "- `points.numpy()`-> Resulting array shares same underlying memory as the tensor\n",
    "-  If the tensor is allocated on the GPU, PyTorch will make a copy of the content of the tensor into a NumPy array allocated on the CPU"
   ],
   "metadata": {
    "collapsed": false
   },
   "id": "fddfeffe09cbd354"
  },
  {
   "cell_type": "code",
   "execution_count": 57,
   "outputs": [],
   "source": [],
   "metadata": {
    "collapsed": false,
    "ExecuteTime": {
     "end_time": "2023-12-03T19:13:36.074783200Z",
     "start_time": "2023-12-03T19:13:36.072778400Z"
    }
   },
   "id": "7c01d4f441f76543"
  }
 ],
 "metadata": {
  "kernelspec": {
   "display_name": "Python 3",
   "language": "python",
   "name": "python3"
  },
  "language_info": {
   "codemirror_mode": {
    "name": "ipython",
    "version": 2
   },
   "file_extension": ".py",
   "mimetype": "text/x-python",
   "name": "python",
   "nbconvert_exporter": "python",
   "pygments_lexer": "ipython2",
   "version": "2.7.6"
  }
 },
 "nbformat": 4,
 "nbformat_minor": 5
}
