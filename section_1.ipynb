{
 "cells": [
  {
   "cell_type": "code",
   "execution_count": 5,
   "id": "initial_id",
   "metadata": {
    "collapsed": true,
    "ExecuteTime": {
     "end_time": "2023-12-08T14:59:38.410947700Z",
     "start_time": "2023-12-08T14:59:38.156921500Z"
    }
   },
   "outputs": [
    {
     "name": "stdout",
     "output_type": "stream",
     "text": [
      "/bin/bash: warning: setlocale: LC_ALL: cannot change locale (en_US.UTF-8)\r\n",
      "Fri Dec  8 15:59:38 2023       \r\n",
      "+---------------------------------------------------------------------------------------+\r\n",
      "| NVIDIA-SMI 535.103                Driver Version: 537.13       CUDA Version: 12.2     |\r\n",
      "|-----------------------------------------+----------------------+----------------------+\r\n",
      "| GPU  Name                 Persistence-M | Bus-Id        Disp.A | Volatile Uncorr. ECC |\r\n",
      "| Fan  Temp   Perf          Pwr:Usage/Cap |         Memory-Usage | GPU-Util  Compute M. |\r\n",
      "|                                         |                      |               MIG M. |\r\n",
      "|=========================================+======================+======================|\r\n",
      "|   0  NVIDIA GeForce RTX 4090        On  | 00000000:01:00.0  On |                  Off |\r\n",
      "|  0%   36C    P8              13W / 450W |   1056MiB / 24564MiB |      0%      Default |\r\n",
      "|                                         |                      |                  N/A |\r\n",
      "+-----------------------------------------+----------------------+----------------------+\r\n",
      "                                                                                         \r\n",
      "+---------------------------------------------------------------------------------------+\r\n",
      "| Processes:                                                                            |\r\n",
      "|  GPU   GI   CI        PID   Type   Process name                            GPU Memory |\r\n",
      "|        ID   ID                                                             Usage      |\r\n",
      "|=======================================================================================|\r\n",
      "|  No running processes found                                                           |\r\n",
      "+---------------------------------------------------------------------------------------+\r\n"
     ]
    }
   ],
   "source": [
    "!nvidia-smi"
   ]
  },
  {
   "cell_type": "code",
   "execution_count": 5,
   "outputs": [],
   "source": [],
   "metadata": {
    "collapsed": false,
    "ExecuteTime": {
     "end_time": "2023-12-08T14:59:38.421950600Z",
     "start_time": "2023-12-08T14:59:38.403946900Z"
    }
   },
   "id": "20050b1590e4ed7d"
  },
  {
   "cell_type": "code",
   "execution_count": 65,
   "outputs": [],
   "source": [
    "import torch\n",
    "import pandas as pd\n",
    "import numpy as np\n",
    "import matplotlib.pyplot as plt"
   ],
   "metadata": {
    "collapsed": false,
    "ExecuteTime": {
     "end_time": "2023-12-08T15:00:55.336611900Z",
     "start_time": "2023-12-08T15:00:55.328614600Z"
    }
   },
   "id": "34250d4e07d50a8f"
  },
  {
   "cell_type": "code",
   "execution_count": 7,
   "outputs": [
    {
     "name": "stdout",
     "output_type": "stream",
     "text": [
      "2.1.1\n"
     ]
    }
   ],
   "source": [
    "print(torch.__version__)"
   ],
   "metadata": {
    "collapsed": false,
    "ExecuteTime": {
     "end_time": "2023-12-08T14:59:38.520465Z",
     "start_time": "2023-12-08T14:59:38.444458300Z"
    }
   },
   "id": "651a6b5a28e6faa9"
  },
  {
   "cell_type": "markdown",
   "source": [
    "# Tensors\n",
    "creating tensors\n",
    "- created using ``` torch.tensor() ```"
   ],
   "metadata": {
    "collapsed": false
   },
   "id": "501e5a924570a1"
  },
  {
   "cell_type": "code",
   "execution_count": 8,
   "outputs": [],
   "source": [
    "# scalar\n",
    "scalar = torch.tensor(7)"
   ],
   "metadata": {
    "collapsed": false,
    "ExecuteTime": {
     "end_time": "2023-12-08T14:59:38.536973500Z",
     "start_time": "2023-12-08T14:59:38.470458800Z"
    }
   },
   "id": "e48e0734752160f6"
  },
  {
   "cell_type": "code",
   "execution_count": 9,
   "outputs": [
    {
     "data": {
      "text/plain": "7"
     },
     "execution_count": 9,
     "metadata": {},
     "output_type": "execute_result"
    }
   ],
   "source": [
    "scalar.item()\n",
    "# get back as python int"
   ],
   "metadata": {
    "collapsed": false,
    "ExecuteTime": {
     "end_time": "2023-12-08T14:59:38.563973200Z",
     "start_time": "2023-12-08T14:59:38.525465400Z"
    }
   },
   "id": "7f5823354e78ae8d"
  },
  {
   "cell_type": "code",
   "execution_count": 10,
   "outputs": [],
   "source": [
    "vector = torch.tensor([5, 6])"
   ],
   "metadata": {
    "collapsed": false,
    "ExecuteTime": {
     "end_time": "2023-12-08T14:59:38.598974100Z",
     "start_time": "2023-12-08T14:59:38.540973400Z"
    }
   },
   "id": "8b583e04bedd11e1"
  },
  {
   "cell_type": "code",
   "execution_count": 11,
   "outputs": [],
   "source": [
    "MATRIX = torch.tensor([[7, 8],\n",
    "                      [9, 10]])"
   ],
   "metadata": {
    "collapsed": false,
    "ExecuteTime": {
     "end_time": "2023-12-08T14:59:38.616979500Z",
     "start_time": "2023-12-08T14:59:38.567972400Z"
    }
   },
   "id": "c8b8e20640d28f75"
  },
  {
   "cell_type": "code",
   "execution_count": 12,
   "outputs": [
    {
     "data": {
      "text/plain": "tensor(7)"
     },
     "execution_count": 12,
     "metadata": {},
     "output_type": "execute_result"
    }
   ],
   "source": [
    "MATRIX[0][0]"
   ],
   "metadata": {
    "collapsed": false,
    "ExecuteTime": {
     "end_time": "2023-12-08T14:59:38.650491400Z",
     "start_time": "2023-12-08T14:59:38.618978200Z"
    }
   },
   "id": "1e5b285ec97d43d3"
  },
  {
   "cell_type": "code",
   "execution_count": 13,
   "outputs": [],
   "source": [
    "TENSOR = torch.tensor([\n",
    "    [[1, 2, 3],\n",
    "    [4, 5, 6],\n",
    "    [7, 8, 9]],\n",
    "    [[1, 2, 3],\n",
    "    [4, 5, 6],\n",
    "    [7, 8, 9]]\n",
    "])"
   ],
   "metadata": {
    "collapsed": false,
    "ExecuteTime": {
     "end_time": "2023-12-08T14:59:38.673494500Z",
     "start_time": "2023-12-08T14:59:38.641492800Z"
    }
   },
   "id": "ac4236d4d4191a9f"
  },
  {
   "cell_type": "code",
   "execution_count": 14,
   "outputs": [
    {
     "data": {
      "text/plain": "torch.Size([2, 3, 3])"
     },
     "execution_count": 14,
     "metadata": {},
     "output_type": "execute_result"
    }
   ],
   "source": [
    "TENSOR.shape"
   ],
   "metadata": {
    "collapsed": false,
    "ExecuteTime": {
     "end_time": "2023-12-08T14:59:38.714488800Z",
     "start_time": "2023-12-08T14:59:38.653493200Z"
    }
   },
   "id": "853624c1b6e1663d"
  },
  {
   "cell_type": "code",
   "execution_count": 15,
   "outputs": [
    {
     "data": {
      "text/plain": "tensor([1, 2, 3])"
     },
     "execution_count": 15,
     "metadata": {},
     "output_type": "execute_result"
    }
   ],
   "source": [
    "TENSOR[0][0]"
   ],
   "metadata": {
    "collapsed": false,
    "ExecuteTime": {
     "end_time": "2023-12-08T14:59:38.755595800Z",
     "start_time": "2023-12-08T14:59:38.690493100Z"
    }
   },
   "id": "d8689e700b39881f"
  },
  {
   "cell_type": "code",
   "execution_count": 16,
   "outputs": [
    {
     "data": {
      "text/plain": "tensor([[1, 2, 3],\n        [4, 5, 6],\n        [7, 8, 9]])"
     },
     "execution_count": 16,
     "metadata": {},
     "output_type": "execute_result"
    }
   ],
   "source": [
    "TENSOR[1]"
   ],
   "metadata": {
    "collapsed": false,
    "ExecuteTime": {
     "end_time": "2023-12-08T14:59:38.776591100Z",
     "start_time": "2023-12-08T14:59:38.718492300Z"
    }
   },
   "id": "20f1bcf94abf4a69"
  },
  {
   "cell_type": "markdown",
   "source": [
    "# Random tensors\n",
    "Random tensors are important because the way most neural networks learn is that they start with random tensors and adjust those random numbers to better represent the data\n"
   ],
   "metadata": {
    "collapsed": false
   },
   "id": "86f4b1f1bd10ce10"
  },
  {
   "cell_type": "code",
   "execution_count": 17,
   "outputs": [],
   "source": [
    "A = torch.randn(2, 3, 4)"
   ],
   "metadata": {
    "collapsed": false,
    "ExecuteTime": {
     "end_time": "2023-12-08T14:59:38.777591400Z",
     "start_time": "2023-12-08T14:59:38.758594300Z"
    }
   },
   "id": "65b5116ed82821e"
  },
  {
   "cell_type": "code",
   "execution_count": 18,
   "outputs": [
    {
     "data": {
      "text/plain": "torch.Size([2, 3, 4])"
     },
     "execution_count": 18,
     "metadata": {},
     "output_type": "execute_result"
    }
   ],
   "source": [
    "A.shape"
   ],
   "metadata": {
    "collapsed": false,
    "ExecuteTime": {
     "end_time": "2023-12-08T14:59:38.818598400Z",
     "start_time": "2023-12-08T14:59:38.772596Z"
    }
   },
   "id": "9829b64511195e0c"
  },
  {
   "cell_type": "code",
   "execution_count": 19,
   "outputs": [
    {
     "data": {
      "text/plain": "tensor([[[-0.2356, -1.8742, -0.6586,  0.6785],\n         [ 0.3185,  0.1526,  0.3080, -1.4691],\n         [-0.8712,  0.2240, -0.1344, -0.4710]],\n\n        [[-0.6339,  1.0456, -0.7557,  0.8077],\n         [-2.3523,  0.3401,  1.1984, -0.8177],\n         [-1.4484, -0.6700, -0.2048,  1.8236]]])"
     },
     "execution_count": 19,
     "metadata": {},
     "output_type": "execute_result"
    }
   ],
   "source": [
    "A"
   ],
   "metadata": {
    "collapsed": false,
    "ExecuteTime": {
     "end_time": "2023-12-08T14:59:38.835112Z",
     "start_time": "2023-12-08T14:59:38.786596700Z"
    }
   },
   "id": "898711bcab8aaf14"
  },
  {
   "cell_type": "code",
   "execution_count": 20,
   "outputs": [],
   "source": [
    "# Create a random tensor with similar shape to an image tensor\n",
    "img = torch.rand((256, 256, 3))"
   ],
   "metadata": {
    "collapsed": false,
    "ExecuteTime": {
     "end_time": "2023-12-08T14:59:38.852111300Z",
     "start_time": "2023-12-08T14:59:38.822596500Z"
    }
   },
   "id": "cb7d7a55c1ba3879"
  },
  {
   "cell_type": "code",
   "execution_count": 21,
   "outputs": [
    {
     "data": {
      "text/plain": "tensor([[[0.6384, 0.1428, 0.5047],\n         [0.2940, 0.5370, 0.7124],\n         [0.1143, 0.9660, 0.6843],\n         ...,\n         [0.0131, 0.3357, 0.6430],\n         [0.8676, 0.9927, 0.0263],\n         [0.7696, 0.9062, 0.4705]],\n\n        [[0.9132, 0.2499, 0.4237],\n         [0.2558, 0.1772, 0.3455],\n         [0.3178, 0.7726, 0.0508],\n         ...,\n         [0.5018, 0.0298, 0.8699],\n         [0.0594, 0.1882, 0.4569],\n         [0.8054, 0.6602, 0.3730]],\n\n        [[0.2432, 0.9816, 0.1743],\n         [0.5192, 0.1127, 0.3186],\n         [0.7211, 0.1884, 0.8197],\n         ...,\n         [0.3885, 0.6365, 0.6960],\n         [0.1982, 0.2242, 0.2598],\n         [0.5055, 0.9194, 0.1553]],\n\n        ...,\n\n        [[0.3356, 0.7274, 0.9796],\n         [0.8014, 0.5585, 0.1346],\n         [0.2798, 0.3320, 0.6344],\n         ...,\n         [0.7341, 0.8358, 0.3691],\n         [0.5729, 0.7363, 0.5606],\n         [0.6498, 0.8636, 0.6740]],\n\n        [[0.4627, 0.2695, 0.0398],\n         [0.7429, 0.0494, 0.1930],\n         [0.0600, 0.4196, 0.6613],\n         ...,\n         [0.2527, 0.3529, 0.6242],\n         [0.9870, 0.5635, 0.6431],\n         [0.9930, 0.0958, 0.3604]],\n\n        [[0.4203, 0.9656, 0.5034],\n         [0.6166, 0.6193, 0.3938],\n         [0.9487, 0.4365, 0.5634],\n         ...,\n         [0.7374, 0.4492, 0.2699],\n         [0.1681, 0.2095, 0.2584],\n         [0.2853, 0.7511, 0.8087]]])"
     },
     "execution_count": 21,
     "metadata": {},
     "output_type": "execute_result"
    }
   ],
   "source": [
    "img"
   ],
   "metadata": {
    "collapsed": false,
    "ExecuteTime": {
     "end_time": "2023-12-08T14:59:38.910115800Z",
     "start_time": "2023-12-08T14:59:38.839111300Z"
    }
   },
   "id": "56dcf764328e0d0"
  },
  {
   "cell_type": "markdown",
   "source": [
    "# Zeros and ones\n",
    "- Used to zero numbers out in matrix multiplications"
   ],
   "metadata": {
    "collapsed": false
   },
   "id": "d3bf13c91892715"
  },
  {
   "cell_type": "code",
   "execution_count": 22,
   "outputs": [],
   "source": [
    "zeros = torch.zeros((3, 4))"
   ],
   "metadata": {
    "collapsed": false,
    "ExecuteTime": {
     "end_time": "2023-12-08T14:59:38.921119900Z",
     "start_time": "2023-12-08T14:59:38.859111Z"
    }
   },
   "id": "f9f3a1e8171a400d"
  },
  {
   "cell_type": "code",
   "execution_count": 23,
   "outputs": [],
   "source": [
    "ones = torch.ones(3, 4)"
   ],
   "metadata": {
    "collapsed": false,
    "ExecuteTime": {
     "end_time": "2023-12-08T14:59:38.939630500Z",
     "start_time": "2023-12-08T14:59:38.913111900Z"
    }
   },
   "id": "36d6e909bee6ccdb"
  },
  {
   "cell_type": "markdown",
   "source": [
    "# Arange\n",
    "- Includes start but excludes stop"
   ],
   "metadata": {
    "collapsed": false
   },
   "id": "8a4186f174d42ce7"
  },
  {
   "cell_type": "code",
   "execution_count": 24,
   "outputs": [
    {
     "data": {
      "text/plain": "tensor([0, 3, 6, 9])"
     },
     "execution_count": 24,
     "metadata": {},
     "output_type": "execute_result"
    }
   ],
   "source": [
    "torch.arange(0, 12, 3)"
   ],
   "metadata": {
    "collapsed": false,
    "ExecuteTime": {
     "end_time": "2023-12-08T14:59:38.950627900Z",
     "start_time": "2023-12-08T14:59:38.928118Z"
    }
   },
   "id": "3dc9b87d2ca252df"
  },
  {
   "cell_type": "code",
   "execution_count": 25,
   "outputs": [],
   "source": [
    "# Create zero tensor with same dim as another tensor\n",
    "zeros_like = torch.zeros_like(ones)"
   ],
   "metadata": {
    "collapsed": false,
    "ExecuteTime": {
     "end_time": "2023-12-08T14:59:38.983626700Z",
     "start_time": "2023-12-08T14:59:38.947627700Z"
    }
   },
   "id": "c14347ce17940723"
  },
  {
   "cell_type": "code",
   "execution_count": 26,
   "outputs": [
    {
     "data": {
      "text/plain": "tensor([[0., 0., 0., 0.],\n        [0., 0., 0., 0.],\n        [0., 0., 0., 0.]])"
     },
     "execution_count": 26,
     "metadata": {},
     "output_type": "execute_result"
    }
   ],
   "source": [
    "zeros_like"
   ],
   "metadata": {
    "collapsed": false,
    "ExecuteTime": {
     "end_time": "2023-12-08T14:59:39.043141200Z",
     "start_time": "2023-12-08T14:59:38.986627200Z"
    }
   },
   "id": "4a3f39e214f549fe"
  },
  {
   "cell_type": "markdown",
   "source": [
    "# Tensor Attributes\n",
    "- Default datatype: Float32 -> tensors we perform computations with must be of same dtype\n",
    "    - check using ```torch.dtype```\n",
    "- Device: cpu or gpu etc. -> tensors must be on same device\n",
    "     - check using ```torch.device```\n",
    "- requires_grad: track with computation graph\n",
    "    - check using ```torch.requires_grad```"
   ],
   "metadata": {
    "collapsed": false
   },
   "id": "bef98b25a2af2b24"
  },
  {
   "cell_type": "code",
   "execution_count": 27,
   "outputs": [],
   "source": [
    "a = torch.randn(3, 4)"
   ],
   "metadata": {
    "collapsed": false,
    "ExecuteTime": {
     "end_time": "2023-12-08T14:59:39.045143100Z",
     "start_time": "2023-12-08T14:59:39.011627700Z"
    }
   },
   "id": "8d4523ae92315b50"
  },
  {
   "cell_type": "code",
   "execution_count": 28,
   "outputs": [
    {
     "data": {
      "text/plain": "False"
     },
     "execution_count": 28,
     "metadata": {},
     "output_type": "execute_result"
    }
   ],
   "source": [
    "a.requires_grad"
   ],
   "metadata": {
    "collapsed": false,
    "ExecuteTime": {
     "end_time": "2023-12-08T14:59:39.095158800Z",
     "start_time": "2023-12-08T14:59:39.046140700Z"
    }
   },
   "id": "ccf1c0c10a90d87f"
  },
  {
   "cell_type": "markdown",
   "source": [
    "## Functions\n",
    "-```type(new_data_type)``` returns new tensor with specified dtype (not in place)"
   ],
   "metadata": {
    "collapsed": false
   },
   "id": "5e57eff11a7931ba"
  },
  {
   "cell_type": "code",
   "execution_count": 29,
   "outputs": [],
   "source": [
    "b = a.type(torch.float16)"
   ],
   "metadata": {
    "collapsed": false,
    "ExecuteTime": {
     "end_time": "2023-12-08T14:59:39.129667900Z",
     "start_time": "2023-12-08T14:59:39.060140700Z"
    }
   },
   "id": "ac7b11857903be7"
  },
  {
   "cell_type": "code",
   "execution_count": 30,
   "outputs": [
    {
     "name": "stdout",
     "output_type": "stream",
     "text": [
      "torch.float32 torch.float16\n"
     ]
    }
   ],
   "source": [
    "print(a.dtype, b.dtype)"
   ],
   "metadata": {
    "collapsed": false,
    "ExecuteTime": {
     "end_time": "2023-12-08T14:59:39.150673600Z",
     "start_time": "2023-12-08T14:59:39.089141800Z"
    }
   },
   "id": "b0402213cc3d488a"
  },
  {
   "cell_type": "markdown",
   "source": [
    "# Tensor Manipulation\n",
    "- Addition\n",
    "- Subtraction\n",
    "- Multiplication\n",
    "- Division\n",
    "- Matmul"
   ],
   "metadata": {
    "collapsed": false
   },
   "id": "c7bee99af8eab8c0"
  },
  {
   "cell_type": "code",
   "execution_count": 31,
   "outputs": [],
   "source": [
    "a = torch.arange(0, 10, 2)"
   ],
   "metadata": {
    "collapsed": false,
    "ExecuteTime": {
     "end_time": "2023-12-08T14:59:39.181671600Z",
     "start_time": "2023-12-08T14:59:39.133673200Z"
    }
   },
   "id": "8e59ccbff27dd0f2"
  },
  {
   "cell_type": "code",
   "execution_count": 32,
   "outputs": [
    {
     "data": {
      "text/plain": "tensor([ 0,  4,  8, 12, 16])"
     },
     "execution_count": 32,
     "metadata": {},
     "output_type": "execute_result"
    }
   ],
   "source": [
    "# Element wise multiplication\n",
    "a * 2"
   ],
   "metadata": {
    "collapsed": false,
    "ExecuteTime": {
     "end_time": "2023-12-08T14:59:39.215686Z",
     "start_time": "2023-12-08T14:59:39.153672500Z"
    }
   },
   "id": "f201e7ef0d19e09"
  },
  {
   "cell_type": "code",
   "execution_count": 33,
   "outputs": [
    {
     "data": {
      "text/plain": "tensor([ 0,  6, 12, 18, 24])"
     },
     "execution_count": 33,
     "metadata": {},
     "output_type": "execute_result"
    }
   ],
   "source": [
    "# Element wise addition\n",
    "a * 3"
   ],
   "metadata": {
    "collapsed": false,
    "ExecuteTime": {
     "end_time": "2023-12-08T14:59:39.228683300Z",
     "start_time": "2023-12-08T14:59:39.184673700Z"
    }
   },
   "id": "da40555409d1b990"
  },
  {
   "cell_type": "markdown",
   "source": [
    "# Matrix Multiplication"
   ],
   "metadata": {
    "collapsed": false
   },
   "id": "61f56b11c88ef19c"
  },
  {
   "cell_type": "code",
   "execution_count": 34,
   "outputs": [
    {
     "data": {
      "text/plain": "tensor([ 0,  4, 16, 36, 64])"
     },
     "execution_count": 34,
     "metadata": {},
     "output_type": "execute_result"
    }
   ],
   "source": [
    "# Element wise multiplication\n",
    "a * a"
   ],
   "metadata": {
    "collapsed": false,
    "ExecuteTime": {
     "end_time": "2023-12-08T14:59:39.251197700Z",
     "start_time": "2023-12-08T14:59:39.218684200Z"
    }
   },
   "id": "37603ad63c0e2558"
  },
  {
   "cell_type": "code",
   "execution_count": 35,
   "outputs": [
    {
     "data": {
      "text/plain": "tensor(120)"
     },
     "execution_count": 35,
     "metadata": {},
     "output_type": "execute_result"
    }
   ],
   "source": [
    "# Matmul\n",
    "a @ a"
   ],
   "metadata": {
    "collapsed": false,
    "ExecuteTime": {
     "end_time": "2023-12-08T14:59:39.256199200Z",
     "start_time": "2023-12-08T14:59:39.231199200Z"
    }
   },
   "id": "3d0bd503221d8c37"
  },
  {
   "cell_type": "code",
   "execution_count": 36,
   "outputs": [],
   "source": [
    "b = torch.zeros(2, 3, 4)\n",
    "c = torch.randn(2, 4 , 6)"
   ],
   "metadata": {
    "collapsed": false,
    "ExecuteTime": {
     "end_time": "2023-12-08T14:59:39.265198100Z",
     "start_time": "2023-12-08T14:59:39.243197700Z"
    }
   },
   "id": "332d82d43c63d605"
  },
  {
   "cell_type": "code",
   "execution_count": 37,
   "outputs": [
    {
     "data": {
      "text/plain": "torch.Size([2, 3, 6])"
     },
     "execution_count": 37,
     "metadata": {},
     "output_type": "execute_result"
    }
   ],
   "source": [
    "(b @ c).shape"
   ],
   "metadata": {
    "collapsed": false,
    "ExecuteTime": {
     "end_time": "2023-12-08T14:59:39.323204400Z",
     "start_time": "2023-12-08T14:59:39.259197600Z"
    }
   },
   "id": "731d0fdca4b1c700"
  },
  {
   "cell_type": "code",
   "execution_count": 38,
   "outputs": [
    {
     "data": {
      "text/plain": "tensor([[[0., 0., 0., 0., 0., 0.],\n         [0., 0., 0., 0., 0., 0.],\n         [0., 0., 0., 0., 0., 0.]],\n\n        [[0., 0., 0., 0., 0., 0.],\n         [0., 0., 0., 0., 0., 0.],\n         [0., 0., 0., 0., 0., 0.]]])"
     },
     "execution_count": 38,
     "metadata": {},
     "output_type": "execute_result"
    }
   ],
   "source": [
    "b @ c"
   ],
   "metadata": {
    "collapsed": false,
    "ExecuteTime": {
     "end_time": "2023-12-08T14:59:39.342715800Z",
     "start_time": "2023-12-08T14:59:39.322204300Z"
    }
   },
   "id": "2416e4661c550606"
  },
  {
   "cell_type": "code",
   "execution_count": 39,
   "outputs": [],
   "source": [
    "a = torch.ones(3, 2, 2)\n",
    "a[:, 0, 0] = 2"
   ],
   "metadata": {
    "collapsed": false,
    "ExecuteTime": {
     "end_time": "2023-12-08T14:59:39.344715500Z",
     "start_time": "2023-12-08T14:59:39.335717800Z"
    }
   },
   "id": "96a1e4dee67ce045"
  },
  {
   "cell_type": "code",
   "execution_count": 40,
   "outputs": [
    {
     "data": {
      "text/plain": "tensor([[[2., 1.],\n         [1., 1.]],\n\n        [[2., 1.],\n         [1., 1.]],\n\n        [[2., 1.],\n         [1., 1.]]])"
     },
     "execution_count": 40,
     "metadata": {},
     "output_type": "execute_result"
    }
   ],
   "source": [
    "a"
   ],
   "metadata": {
    "collapsed": false,
    "ExecuteTime": {
     "end_time": "2023-12-08T14:59:39.388718500Z",
     "start_time": "2023-12-08T14:59:39.345715800Z"
    }
   },
   "id": "d43bdf2f97f124db"
  },
  {
   "cell_type": "code",
   "execution_count": 41,
   "outputs": [
    {
     "data": {
      "text/plain": "tensor([[2., 1.],\n        [1., 1.]])"
     },
     "execution_count": 41,
     "metadata": {},
     "output_type": "execute_result"
    }
   ],
   "source": [
    "a.mean(0)"
   ],
   "metadata": {
    "collapsed": false,
    "ExecuteTime": {
     "end_time": "2023-12-08T14:59:39.433233700Z",
     "start_time": "2023-12-08T14:59:39.372716200Z"
    }
   },
   "id": "225adebf1f17671a"
  },
  {
   "cell_type": "markdown",
   "source": [
    "# Naming tensors\n",
    "- To keep track of tensor dims without using indices, we can name them by passing in an extra parameter (list of strings)\n",
    "- Use the `rename()` method to rename tensor dims\n",
    "- The method `align_as()` returns a tensor with missing dimensions\n",
    "added and existing ones permuted to the right order"
   ],
   "metadata": {
    "collapsed": false
   },
   "id": "7a1326b09fdde6b6"
  },
  {
   "cell_type": "code",
   "execution_count": 42,
   "outputs": [
    {
     "name": "stderr",
     "output_type": "stream",
     "text": [
      "/tmp/ipykernel_6489/1540385880.py:1: UserWarning: Named tensors and all their associated APIs are an experimental feature and subject to change. Please do not use them for anything important until they are released as stable. (Triggered internally at /opt/conda/conda-bld/pytorch_1699449201450/work/c10/core/TensorImpl.h:1900.)\n",
      "  a = torch.rand(3, 2, 2, names=[\"one\", \"two\", \"three\"])\n"
     ]
    }
   ],
   "source": [
    "a = torch.rand(3, 2, 2, names=[\"one\", \"two\", \"three\"])"
   ],
   "metadata": {
    "collapsed": false,
    "ExecuteTime": {
     "end_time": "2023-12-08T14:59:39.468235700Z",
     "start_time": "2023-12-08T14:59:39.391716500Z"
    }
   },
   "id": "7550fa4b253e618"
  },
  {
   "cell_type": "code",
   "execution_count": 43,
   "outputs": [
    {
     "data": {
      "text/plain": "tensor([[[0.0863, 0.5108],\n         [0.6280, 0.3610]],\n\n        [[0.3513, 0.3544],\n         [0.6538, 0.3036]],\n\n        [[0.6539, 0.0934],\n         [0.8714, 0.0401]]], names=('Channels', 'Rows', 'Cols'))"
     },
     "execution_count": 43,
     "metadata": {},
     "output_type": "execute_result"
    }
   ],
   "source": [
    "b = a.rename(one=\"Channels\", two=\"Rows\", three=\"Cols\") # MUST ASSIGN NEW VARIABLE NAME WHEN RENAMING\n",
    "b"
   ],
   "metadata": {
    "collapsed": false,
    "ExecuteTime": {
     "end_time": "2023-12-08T14:59:39.482230900Z",
     "start_time": "2023-12-08T14:59:39.436232400Z"
    }
   },
   "id": "5a51b0a634b4ac57"
  },
  {
   "cell_type": "code",
   "execution_count": 44,
   "outputs": [
    {
     "data": {
      "text/plain": "tensor([[[0.0863, 0.5108],\n         [0.6280, 0.3610]],\n\n        [[0.3513, 0.3544],\n         [0.6538, 0.3036]],\n\n        [[0.6539, 0.0934],\n         [0.8714, 0.0401]]], names=('one', 'two', 'three'))"
     },
     "execution_count": 44,
     "metadata": {},
     "output_type": "execute_result"
    }
   ],
   "source": [
    "a"
   ],
   "metadata": {
    "collapsed": false,
    "ExecuteTime": {
     "end_time": "2023-12-08T14:59:39.495230900Z",
     "start_time": "2023-12-08T14:59:39.471234400Z"
    }
   },
   "id": "202ffd58bf096cd0"
  },
  {
   "cell_type": "code",
   "execution_count": 45,
   "outputs": [],
   "source": [
    "c = torch.zeros(2, 3, 2, names=(\"one\", \"two\", \"three\")).align_as(a)"
   ],
   "metadata": {
    "collapsed": false,
    "ExecuteTime": {
     "end_time": "2023-12-08T14:59:39.535746400Z",
     "start_time": "2023-12-08T14:59:39.485231300Z"
    }
   },
   "id": "6e5706b41b537395"
  },
  {
   "cell_type": "code",
   "execution_count": 46,
   "outputs": [
    {
     "data": {
      "text/plain": "tensor([[[0., 0.],\n         [0., 0.],\n         [0., 0.]],\n\n        [[0., 0.],\n         [0., 0.],\n         [0., 0.]]], names=('one', 'two', 'three'))"
     },
     "execution_count": 46,
     "metadata": {},
     "output_type": "execute_result"
    }
   ],
   "source": [
    "c"
   ],
   "metadata": {
    "collapsed": false,
    "ExecuteTime": {
     "end_time": "2023-12-08T14:59:39.550745600Z",
     "start_time": "2023-12-08T14:59:39.498233600Z"
    }
   },
   "id": "59d876a1c96215d7"
  },
  {
   "cell_type": "markdown",
   "source": [
    "# Torch Dtypes\n",
    "- If we pass a list of ints to `torch.tensor`, torch automatically creates an int64 tensor\n",
    "- convert via the `.to()` method\n",
    "- When performing computations, torch automatically converts all tensors to the highest precision-> if we want a computation resulting in a float32 tensor, all the components should be at most int32"
   ],
   "metadata": {
    "collapsed": false
   },
   "id": "a2f683ad685b47c1"
  },
  {
   "cell_type": "code",
   "execution_count": 47,
   "outputs": [
    {
     "data": {
      "text/plain": "torch.float64"
     },
     "execution_count": 47,
     "metadata": {},
     "output_type": "execute_result"
    }
   ],
   "source": [
    "double_points = torch.zeros(10, 2).to(torch.double)\n",
    "double_points.dtype"
   ],
   "metadata": {
    "collapsed": false,
    "ExecuteTime": {
     "end_time": "2023-12-08T14:59:39.566750Z",
     "start_time": "2023-12-08T14:59:39.538746200Z"
    }
   },
   "id": "facd8703b8675943"
  },
  {
   "cell_type": "markdown",
   "source": [
    "# The tensor API\n",
    "- Most operations on & between tensors are available in the torch module & can be called as methods\n",
    "    - `torch.transpose(a, 0, 1)` or `a.transpose(0, 1)`\n",
    "# Tensor storage\n",
    "- managed by `torch.Storage` instances: 1-d array of numerical data (continuous block of memory containing numbers of the same dtype)\n",
    "- torch `Tensor` instances  can index into storage using an offset & per-dimension strides   \n",
    "- Multiple `Tensor` instances can index the same storage simultaneously (with different dimensionality)\n",
    "- Can index into the storage (Always 1 D) directly to change value of tensor\n",
    "## Size, Offset & Stride\n",
    "- A tensor stores the size, offset & stride in a tuple in order to index into storage correctly\n",
    "- **Offset**: Where to begin in the 1D array in memory ( Usually 0 unless tensor is a view of a larger tensor)\n",
    "- **Size**: Tuple indicating how many elements across each dim the tensor represents (shape)\n",
    "- **Stride**: Number of elements in storage that need to be skipped over to obtain the next element along each dim\n",
    "    - e.g. stride along the rows is the number of elements you need to move in memory to go from one element in a row to the next element in the same row \n",
    "- Makes operations such as transposing & extracting sub-tensors more efficient (avoids allocation of new memory) `second_point = points[1]` creates a tensor that indexes into the same storage-> **Potential Issue:** alterations to the sub-tensor will affect the main tensor-> May need to copy data over to a new tensor\n",
    "- Solution: `second_point = points[1].clone()`"
   ],
   "metadata": {
    "collapsed": false
   },
   "id": "b87815ec786b65a"
  },
  {
   "cell_type": "code",
   "execution_count": 48,
   "outputs": [],
   "source": [
    "points = torch.tensor([[4.0, 1.0], [5.0, 3.0], [2.0, 1.0]])"
   ],
   "metadata": {
    "collapsed": false,
    "ExecuteTime": {
     "end_time": "2023-12-08T14:59:39.573748100Z",
     "start_time": "2023-12-08T14:59:39.554746100Z"
    }
   },
   "id": "9bdbc52dcda38b40"
  },
  {
   "cell_type": "code",
   "execution_count": 49,
   "outputs": [
    {
     "name": "stderr",
     "output_type": "stream",
     "text": [
      "/tmp/ipykernel_6489/1256144357.py:1: UserWarning: TypedStorage is deprecated. It will be removed in the future and UntypedStorage will be the only storage class. This should only matter to you if you are using storages directly.  To access UntypedStorage directly, use tensor.untyped_storage() instead of tensor.storage()\n",
      "  points.storage() # Data stored in continuous array even though tensor is 2d\n"
     ]
    },
    {
     "data": {
      "text/plain": " 4.0\n 1.0\n 5.0\n 3.0\n 2.0\n 1.0\n[torch.storage.TypedStorage(dtype=torch.float32, device=cpu) of size 6]"
     },
     "execution_count": 49,
     "metadata": {},
     "output_type": "execute_result"
    }
   ],
   "source": [
    "points.storage() # Data stored in continuous array even though tensor is 2d"
   ],
   "metadata": {
    "collapsed": false,
    "ExecuteTime": {
     "end_time": "2023-12-08T14:59:39.623758300Z",
     "start_time": "2023-12-08T14:59:39.570746300Z"
    }
   },
   "id": "af07ed64ae6526ae"
  },
  {
   "cell_type": "code",
   "execution_count": 50,
   "outputs": [
    {
     "data": {
      "text/plain": "2"
     },
     "execution_count": 50,
     "metadata": {},
     "output_type": "execute_result"
    }
   ],
   "source": [
    "points = torch.tensor([[4.0, 1.0], [5.0, 3.0], [2.0, 1.0]])\n",
    "second_point = points[1]\n",
    "second_point.storage_offset() # Offset in storage between the first 2 elements"
   ],
   "metadata": {
    "collapsed": false,
    "ExecuteTime": {
     "end_time": "2023-12-08T14:59:39.651211300Z",
     "start_time": "2023-12-08T14:59:39.616754900Z"
    }
   },
   "id": "ec709c387ffc8c03"
  },
  {
   "cell_type": "code",
   "execution_count": 51,
   "outputs": [
    {
     "data": {
      "text/plain": "(tensor([5., 3.]), torch.Size([2]))"
     },
     "execution_count": 51,
     "metadata": {},
     "output_type": "execute_result"
    }
   ],
   "source": [
    "second_point, second_point.size()"
   ],
   "metadata": {
    "collapsed": false,
    "ExecuteTime": {
     "end_time": "2023-12-08T14:59:39.704210500Z",
     "start_time": "2023-12-08T14:59:39.631210500Z"
    }
   },
   "id": "b6ef46d797fc36b6"
  },
  {
   "cell_type": "code",
   "execution_count": 52,
   "outputs": [
    {
     "data": {
      "text/plain": "(2, 1)"
     },
     "execution_count": 52,
     "metadata": {},
     "output_type": "execute_result"
    }
   ],
   "source": [
    "points.stride() # Provides stride in (rows, cols) -> stride in cols is 1"
   ],
   "metadata": {
    "collapsed": false,
    "ExecuteTime": {
     "end_time": "2023-12-08T14:59:39.730738Z",
     "start_time": "2023-12-08T14:59:39.654215800Z"
    }
   },
   "id": "8d1a737b25678722"
  },
  {
   "cell_type": "code",
   "execution_count": 53,
   "outputs": [
    {
     "data": {
      "text/plain": "(4.0, 1.0)"
     },
     "execution_count": 53,
     "metadata": {},
     "output_type": "execute_result"
    }
   ],
   "source": [
    "points.storage()[0], points.storage()[1] # As seen here, the first & second elements of the storage are the items in the first row-> stride between cols = 1"
   ],
   "metadata": {
    "collapsed": false,
    "ExecuteTime": {
     "end_time": "2023-12-08T14:59:39.743736200Z",
     "start_time": "2023-12-08T14:59:39.698208900Z"
    }
   },
   "id": "572857e9733f7c25"
  },
  {
   "cell_type": "code",
   "execution_count": 54,
   "outputs": [
    {
     "data": {
      "text/plain": "5.0"
     },
     "execution_count": 54,
     "metadata": {},
     "output_type": "execute_result"
    }
   ],
   "source": [
    "points.storage()[2]"
   ],
   "metadata": {
    "collapsed": false,
    "ExecuteTime": {
     "end_time": "2023-12-08T14:59:39.756734500Z",
     "start_time": "2023-12-08T14:59:39.732735700Z"
    }
   },
   "id": "a7fb550ebc3a1b2d"
  },
  {
   "cell_type": "markdown",
   "source": [
    "#### As seen above: Accessing an element `i, j` in a 2D tensor results in accessing the \n",
    "```storage_offset + stride[0] * i + stride[1] * j``` element in the storage. "
   ],
   "metadata": {
    "collapsed": false
   },
   "id": "a77d46796e04d461"
  },
  {
   "cell_type": "markdown",
   "source": [
    "# In place operations\n",
    "- Some in place operations exist as methods of the `Tensor` object: have trailing underscores in their names: `zero_()`\n",
    "- **Any method without the underscore returns a new tensor & leaves the old one unchanged**"
   ],
   "metadata": {
    "collapsed": false
   },
   "id": "9755d3790f18039d"
  },
  {
   "cell_type": "code",
   "execution_count": 55,
   "outputs": [
    {
     "data": {
      "text/plain": "tensor([[[0.0863, 0.5108],\n         [0.6280, 0.3610]],\n\n        [[0.3513, 0.3544],\n         [0.6538, 0.3036]],\n\n        [[0.6539, 0.0934],\n         [0.8714, 0.0401]]], names=('one', 'two', 'three'))"
     },
     "execution_count": 55,
     "metadata": {},
     "output_type": "execute_result"
    }
   ],
   "source": [
    "a"
   ],
   "metadata": {
    "collapsed": false,
    "ExecuteTime": {
     "end_time": "2023-12-08T14:59:39.801735600Z",
     "start_time": "2023-12-08T14:59:39.746738400Z"
    }
   },
   "id": "d71a0010f908509d"
  },
  {
   "cell_type": "code",
   "execution_count": 56,
   "outputs": [
    {
     "data": {
      "text/plain": "tensor([[[0., 0.],\n         [0., 0.]],\n\n        [[0., 0.],\n         [0., 0.]],\n\n        [[0., 0.],\n         [0., 0.]]], names=('one', 'two', 'three'))"
     },
     "execution_count": 56,
     "metadata": {},
     "output_type": "execute_result"
    }
   ],
   "source": [
    "a.zero_()\n",
    "a"
   ],
   "metadata": {
    "collapsed": false,
    "ExecuteTime": {
     "end_time": "2023-12-08T14:59:39.816744800Z",
     "start_time": "2023-12-08T14:59:39.759734500Z"
    }
   },
   "id": "370a9986a9b8e7d4"
  },
  {
   "cell_type": "markdown",
   "source": [
    "# Transposing Tensors\n",
    "- Changes the stride & shape without allocating new memory\n",
    "- Can be done for n-D tensors where n > 2 too: Specify dims for transpose, e.g. `a.transpose(0, 2)` \n",
    "- Tensor whose values are laid out in storage starting from the rightmost dimension onwards is **continuous**-> Efficient because no need to jump around in storage\n",
    "    - Check for continuity: `a.is_continuous()`\n",
    "    - Can make non-continuous tensor continuous by allocating new storage: `a.continuous()` "
   ],
   "metadata": {
    "collapsed": false
   },
   "id": "9242d7a712df16b"
  },
  {
   "cell_type": "code",
   "execution_count": 57,
   "outputs": [],
   "source": [
    "a = torch.arange(0, 12, 1).reshape(2, 2, 3)"
   ],
   "metadata": {
    "collapsed": false,
    "ExecuteTime": {
     "end_time": "2023-12-08T14:59:39.826744Z",
     "start_time": "2023-12-08T14:59:39.805736300Z"
    }
   },
   "id": "c094f3693190161e"
  },
  {
   "cell_type": "code",
   "execution_count": 58,
   "outputs": [
    {
     "data": {
      "text/plain": "tensor([[[ 0,  1,  2],\n         [ 3,  4,  5]],\n\n        [[ 6,  7,  8],\n         [ 9, 10, 11]]])"
     },
     "execution_count": 58,
     "metadata": {},
     "output_type": "execute_result"
    }
   ],
   "source": [
    "a"
   ],
   "metadata": {
    "collapsed": false,
    "ExecuteTime": {
     "end_time": "2023-12-08T14:59:39.839255700Z",
     "start_time": "2023-12-08T14:59:39.819744Z"
    }
   },
   "id": "aa800c49d3ffcb2a"
  },
  {
   "cell_type": "code",
   "execution_count": 59,
   "outputs": [
    {
     "data": {
      "text/plain": "(tensor([[[ 0,  6],\n          [ 3,  9]],\n \n         [[ 1,  7],\n          [ 4, 10]],\n \n         [[ 2,  8],\n          [ 5, 11]]]),\n torch.Size([3, 2, 2]))"
     },
     "execution_count": 59,
     "metadata": {},
     "output_type": "execute_result"
    }
   ],
   "source": [
    "a.transpose(0, 2), a.transpose(0, 2).shape # The 1st row of the 2nd dim is now the first col of the 0th dim"
   ],
   "metadata": {
    "collapsed": false,
    "ExecuteTime": {
     "end_time": "2023-12-08T14:59:39.886254800Z",
     "start_time": "2023-12-08T14:59:39.837256700Z"
    }
   },
   "id": "10b6b324ef62a9ae"
  },
  {
   "cell_type": "markdown",
   "source": [
    "# Torch & GPUs\n",
    "- Tensors are stored on CPU by default but can be moved to GPU for parallel computations\n",
    "- `device` is a var which tells us where the tensor is placed\n",
    "    - create tensor on gpu: `points_gpu = torch.tensor([[4.0, 1.0], [5.0, 3.0], [2.0, 1.0]], device='cuda')`\n",
    "    - Copy a tensor to GPU: `points_gpu = points.to(device='cuda')` (Yields new tensor with same data but stored on RAM of GPU)\n",
    "    - Shorthand method of the same thing `points_gpu = points.cuda()`\n",
    "- GPU & CPU tensors share the same API -> Can run code regardless of where it is running\n",
    "- After a tensor has been copied to the GPU, the CPU knows nothing about the computations we perform with it"
   ],
   "metadata": {
    "collapsed": false
   },
   "id": "249b7ec858a47633"
  },
  {
   "cell_type": "code",
   "execution_count": 60,
   "outputs": [],
   "source": [
    "a = torch.randn(3, 2)\n",
    "a_gpu = a.cuda()\n",
    "a_gpu_float = a.to(device='cuda', dtype=torch.float32)"
   ],
   "metadata": {
    "collapsed": false,
    "ExecuteTime": {
     "end_time": "2023-12-08T14:59:40.161578900Z",
     "start_time": "2023-12-08T14:59:39.949769100Z"
    }
   },
   "id": "a92e518e86c609b7"
  },
  {
   "cell_type": "code",
   "execution_count": 61,
   "outputs": [
    {
     "data": {
      "text/plain": "(device(type='cpu'),\n device(type='cuda', index=0),\n device(type='cuda', index=0),\n torch.float32)"
     },
     "execution_count": 61,
     "metadata": {},
     "output_type": "execute_result"
    }
   ],
   "source": [
    "a.device, a_gpu.device, a_gpu_float.device, a_gpu_float.dtype"
   ],
   "metadata": {
    "collapsed": false,
    "ExecuteTime": {
     "end_time": "2023-12-08T14:59:40.164571400Z",
     "start_time": "2023-12-08T14:59:40.162575500Z"
    }
   },
   "id": "fb01727611035c64"
  },
  {
   "cell_type": "markdown",
   "source": [
    "# NumPy interoperability\n",
    "- Torch tensors on CPU can be converted to NumPy arrays efficiently (Zero-copy interoperability)\n",
    "- `points.numpy()`-> Resulting array shares same underlying memory as the tensor\n",
    "-  If the tensor is allocated on the GPU, PyTorch will make a copy of the content of the tensor into a NumPy array allocated on the CPU"
   ],
   "metadata": {
    "collapsed": false
   },
   "id": "fddfeffe09cbd354"
  },
  {
   "cell_type": "markdown",
   "source": [
    "# Serializing tensors\n",
    "- Can use the `pickle` library to save tensors & load it back -> avoid retraining model\n",
    "- `torch.save(points, file_path)` & `points = torch.load('../data/p1ch3/ourpoints.t')`\n",
    "- OR \n",
    "- `with open('../data/p1ch3/ourpoints.t','wb') as f:\n",
    "torch.save(points, f)`\n",
    "- `with open('../data/p1ch3/ourpoints.t','rb') as f:\n",
    "points = torch.load(f)`\n",
    "- Only works with PyTorch, cannot read the tensor with anything else"
   ],
   "metadata": {
    "collapsed": false
   },
   "id": "938f87d9d0ba267c"
  },
  {
   "cell_type": "markdown",
   "source": [
    "# Exercises"
   ],
   "metadata": {
    "collapsed": false
   },
   "id": "f64095574956f887"
  },
  {
   "cell_type": "code",
   "execution_count": 71,
   "outputs": [
    {
     "data": {
      "text/plain": "torch.Size([9])"
     },
     "execution_count": 71,
     "metadata": {},
     "output_type": "execute_result"
    }
   ],
   "source": [
    "a = torch.tensor(list(range(9)))\n",
    "a.stride() # prediction: 1\n",
    "a.size() # prediction: 9\n",
    "a.shape # prediction: ,9"
   ],
   "metadata": {
    "collapsed": false,
    "ExecuteTime": {
     "end_time": "2023-12-08T15:02:54.952929400Z",
     "start_time": "2023-12-08T15:02:54.948921300Z"
    }
   },
   "id": "6d058a5733df0229"
  },
  {
   "cell_type": "code",
   "execution_count": 73,
   "outputs": [
    {
     "data": {
      "text/plain": "tensor([[0, 1, 2],\n        [3, 4, 5],\n        [6, 7, 8]])"
     },
     "execution_count": 73,
     "metadata": {},
     "output_type": "execute_result"
    }
   ],
   "source": [
    "b = a.view(3, 3) # Changes the shape of a to 3 x 3\n",
    "b"
   ],
   "metadata": {
    "collapsed": false,
    "ExecuteTime": {
     "end_time": "2023-12-08T15:03:39.831482800Z",
     "start_time": "2023-12-08T15:03:39.824481700Z"
    }
   },
   "id": "4e4409898d634325"
  },
  {
   "cell_type": "code",
   "execution_count": 74,
   "outputs": [],
   "source": [
    "a[-1] = 0"
   ],
   "metadata": {
    "collapsed": false,
    "ExecuteTime": {
     "end_time": "2023-12-08T15:03:51.685355700Z",
     "start_time": "2023-12-08T15:03:51.676355300Z"
    }
   },
   "id": "1dec42becfea677c"
  },
  {
   "cell_type": "code",
   "execution_count": 77,
   "outputs": [
    {
     "data": {
      "text/plain": "(tensor([[0, 1, 2],\n         [3, 4, 5],\n         [6, 7, 0]]),\n (3, 1))"
     },
     "execution_count": 77,
     "metadata": {},
     "output_type": "execute_result"
    }
   ],
   "source": [
    "b, b.stride() # Changes to a affects b -> the tensors share the same storage\n"
   ],
   "metadata": {
    "collapsed": false,
    "ExecuteTime": {
     "end_time": "2023-12-08T15:04:33.831178200Z",
     "start_time": "2023-12-08T15:04:33.824817900Z"
    }
   },
   "id": "1334b933deeacb2c"
  },
  {
   "cell_type": "code",
   "execution_count": 82,
   "outputs": [
    {
     "data": {
      "text/plain": "(torch.Size([2, 2]), 4, (3, 1))"
     },
     "execution_count": 82,
     "metadata": {},
     "output_type": "execute_result"
    }
   ],
   "source": [
    "c = b[1: ,1:] # prediction of size: 2 x 2, offset: 1, stride: 3, 1 -> correction: Correct offset = 4 (STARTS IN THE SECOND ROW!!)\n",
    "c.size(), c.storage_offset(), c.stride()"
   ],
   "metadata": {
    "collapsed": false,
    "ExecuteTime": {
     "end_time": "2023-12-08T15:07:28.946932900Z",
     "start_time": "2023-12-08T15:07:28.893912500Z"
    }
   },
   "id": "9cb50c0cdba2ed70"
  },
  {
   "cell_type": "code",
   "execution_count": 107,
   "outputs": [],
   "source": [
    "d = torch.randn(3, 3, dtype=torch.float64)"
   ],
   "metadata": {
    "collapsed": false,
    "ExecuteTime": {
     "end_time": "2023-12-08T15:18:35.819301100Z",
     "start_time": "2023-12-08T15:18:35.814298200Z"
    }
   },
   "id": "a940e88d1ab2ab35"
  },
  {
   "cell_type": "code",
   "execution_count": 108,
   "outputs": [
    {
     "data": {
      "text/plain": "(tensor([[ 0.1415,  0.9340,  0.2817],\n         [ 0.2700,  0.9684,  0.2486],\n         [ 0.4386, -0.0495,  0.6609]], dtype=torch.float64),\n tensor([[1.1954, 0.6045, 1.1337],\n         [   nan, 0.5019,    nan],\n         [   nan, 1.2729,    nan]], dtype=torch.float64))"
     },
     "execution_count": 108,
     "metadata": {},
     "output_type": "execute_result"
    }
   ],
   "source": [
    "torch.cos(d), torch.sqrt(d) # element wise operations work!"
   ],
   "metadata": {
    "collapsed": false,
    "ExecuteTime": {
     "end_time": "2023-12-08T15:18:36.122661400Z",
     "start_time": "2023-12-08T15:18:36.075658600Z"
    }
   },
   "id": "75dbe4bb3de8713a"
  },
  {
   "cell_type": "code",
   "execution_count": 109,
   "outputs": [
    {
     "data": {
      "text/plain": "(tensor([[0.3761, 0.9664, 0.5308],\n         [0.5196, 0.9841, 0.4986],\n         [0.6622,    nan, 0.8130]], dtype=torch.float64),\n tensor([[0.3761, 0.9664, 0.5308],\n         [0.5196, 0.9841, 0.4986],\n         [0.6622,    nan, 0.8130]], dtype=torch.float64))"
     },
     "execution_count": 109,
     "metadata": {},
     "output_type": "execute_result"
    }
   ],
   "source": [
    "torch.cos_(d), torch.sqrt_(d) # In- place operation only works on float64"
   ],
   "metadata": {
    "collapsed": false,
    "ExecuteTime": {
     "end_time": "2023-12-08T15:18:36.721307Z",
     "start_time": "2023-12-08T15:18:36.678307200Z"
    }
   },
   "id": "12ab6a6726ddbe5f"
  },
  {
   "cell_type": "code",
   "execution_count": 110,
   "outputs": [
    {
     "data": {
      "text/plain": "tensor([[0.3761, 0.9664, 0.5308],\n        [0.5196, 0.9841, 0.4986],\n        [0.6622,    nan, 0.8130]], dtype=torch.float64)"
     },
     "execution_count": 110,
     "metadata": {},
     "output_type": "execute_result"
    }
   ],
   "source": [
    "d"
   ],
   "metadata": {
    "collapsed": false,
    "ExecuteTime": {
     "end_time": "2023-12-08T15:18:40.037688Z",
     "start_time": "2023-12-08T15:18:40.030690300Z"
    }
   },
   "id": "913814beea8941b8"
  },
  {
   "cell_type": "code",
   "execution_count": 111,
   "outputs": [
    {
     "data": {
      "text/plain": "tensor([[ 0.7245, -0.1111,  1.2730],\n        [-0.9719, -0.2573, -0.9584],\n        [ 0.0668,  0.5899, -0.4257]], dtype=torch.float64)"
     },
     "execution_count": 111,
     "metadata": {},
     "output_type": "execute_result"
    }
   ],
   "source": [
    "e = torch.randn(3, 3)\n",
    "e.to(dtype=torch.float64) # The .to method is not in-place"
   ],
   "metadata": {
    "collapsed": false,
    "ExecuteTime": {
     "end_time": "2023-12-08T15:20:55.035011100Z",
     "start_time": "2023-12-08T15:20:54.981495100Z"
    }
   },
   "id": "710945b21c70dfae"
  },
  {
   "cell_type": "code",
   "execution_count": 112,
   "outputs": [
    {
     "data": {
      "text/plain": "torch.float32"
     },
     "execution_count": 112,
     "metadata": {},
     "output_type": "execute_result"
    }
   ],
   "source": [
    "e.dtype"
   ],
   "metadata": {
    "collapsed": false,
    "ExecuteTime": {
     "end_time": "2023-12-08T15:20:59.943481800Z",
     "start_time": "2023-12-08T15:20:59.913483400Z"
    }
   },
   "id": "f62facd7923c8e36"
  },
  {
   "cell_type": "code",
   "execution_count": null,
   "outputs": [],
   "source": [],
   "metadata": {
    "collapsed": false
   },
   "id": "11304e153c66719e"
  }
 ],
 "metadata": {
  "kernelspec": {
   "display_name": "Python 3",
   "language": "python",
   "name": "python3"
  },
  "language_info": {
   "codemirror_mode": {
    "name": "ipython",
    "version": 2
   },
   "file_extension": ".py",
   "mimetype": "text/x-python",
   "name": "python",
   "nbconvert_exporter": "python",
   "pygments_lexer": "ipython2",
   "version": "2.7.6"
  }
 },
 "nbformat": 4,
 "nbformat_minor": 5
}
